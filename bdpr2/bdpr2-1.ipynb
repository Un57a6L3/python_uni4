{
 "cells": [
  {
   "cell_type": "markdown",
   "metadata": {},
   "source": [
    "### Задание:\n",
    "\n",
    "1. Применить для тестовых вариантов и вариантов из репозиториев различные алгоритмы поиска ассоциативных правил при одинаковых начальных условиях (при одинаковых пороговых значениях для поддержки и достоверности) и сравнить полученные результаты. Для тестовых вариантов выполнить ручные расчеты (например, с применением MS Excel) и расчеты с применением программных библиотек на языке Python. Для вариантов из репозиториев выполнить расчеты с применением программных библиотек на языке Python. В качестве алгоритмов поиска ассоциативных правил использовать алгоритмы:\n",
    "- Apriori (https://pypi.org/project/apriori-python/),\n",
    "- Efficient Apriori (https://pypi.org/project/efficient-apriori/),\n",
    "- FPGrowth (https://pypi.org/project/fpgrowth-py/).\n",
    "\n",
    "2. Сформировать базы ассоциативных правил с уровнем минимальной достоверности 60% и 80%. Вычислить для ассоциативных правил поддержку, достоверность, значимость.\n",
    "\n",
    "3. Оценить время формирования искомых ассоциативных правил с применением различных алгоритмов и построить диаграммы, позволяющие выполнить сравнительный анализ.\n",
    "\n",
    "4. Выполнить визуализацию ассоциативных правил (https://pypi.org/project/pyarmviz/)."
   ]
  },
  {
   "cell_type": "code",
   "execution_count": 1,
   "metadata": {},
   "outputs": [],
   "source": [
    "import pandas as pd\n",
    "import time\n",
    "import matplotlib.pyplot as plt\n",
    "from apriori_python import apriori\n",
    "from efficient_apriori import apriori as eff_apriori\n",
    "from fpgrowth_py import fpgrowth\n",
    "from PyARMViz import PyARMViz"
   ]
  },
  {
   "cell_type": "markdown",
   "metadata": {},
   "source": [
    "###  Расчеты с применением программных библиотек на языке Python для тестового варианта (2 - Аптека)"
   ]
  },
  {
   "cell_type": "code",
   "execution_count": 2,
   "metadata": {},
   "outputs": [],
   "source": [
    "MINSUP = 0.25\n",
    "MINCONF = 0.6\n",
    "\n",
    "# Parse normalized data from .csv into transaction list\n",
    "def csv_to_transactions(path):\n",
    "    df = pd.read_csv(path, sep=';')\n",
    "    transactions = []\n",
    "    for index, row in df.iterrows():\n",
    "        transaction = [item for item in df.columns if row[item] == 1]\n",
    "        transactions.append(transaction)\n",
    "    return transactions\n",
    "\n",
    "transactions = csv_to_transactions('data/pharmacy20-custom.csv')"
   ]
  },
  {
   "cell_type": "code",
   "execution_count": 3,
   "metadata": {},
   "outputs": [
    {
     "data": {
      "text/plain": [
       "[[{'Граммидин', 'Хлоргексидин'}, {'Арбидол'}, 0.625],\n",
       " [{'Арбидол'}, {'Граммидин'}, 0.6428571428571429],\n",
       " [{'Граммидин'}, {'Арбидол'}, 0.6428571428571429],\n",
       " [{'Хлоргексидин'}, {'Арбидол'}, 0.7],\n",
       " [{'Арбидол', 'Хлоргексидин'}, {'Граммидин'}, 0.7142857142857143],\n",
       " [{'Хлоргексидин'}, {'Граммидин'}, 0.8],\n",
       " [{'Мирамистин'}, {'Арбидол'}, 1.0],\n",
       " [{'Нурофен'}, {'Граммидин'}, 1.0]]"
      ]
     },
     "execution_count": 3,
     "metadata": {},
     "output_type": "execute_result"
    }
   ],
   "source": [
    "freqItemSet, rules = apriori(transactions, minSup=MINSUP, minConf=MINCONF)\n",
    "rules"
   ]
  },
  {
   "cell_type": "code",
   "execution_count": 4,
   "metadata": {},
   "outputs": [
    {
     "name": "stdout",
     "output_type": "stream",
     "text": [
      "{Граммидин} -> {Арбидол} (conf: 0.643, supp: 0.450, lift: 0.918, conv: 0.840)\n",
      "{Арбидол} -> {Граммидин} (conf: 0.643, supp: 0.450, lift: 0.918, conv: 0.840)\n",
      "{Мирамистин} -> {Арбидол} (conf: 1.000, supp: 0.350, lift: 1.429, conv: 300000000.000)\n",
      "{Хлоргексидин} -> {Арбидол} (conf: 0.700, supp: 0.350, lift: 1.000, conv: 1.000)\n",
      "{Нурофен} -> {Граммидин} (conf: 1.000, supp: 0.250, lift: 1.429, conv: 300000000.000)\n",
      "{Хлоргексидин} -> {Граммидин} (conf: 0.800, supp: 0.400, lift: 1.143, conv: 1.500)\n",
      "{Граммидин, Хлоргексидин} -> {Арбидол} (conf: 0.625, supp: 0.250, lift: 0.893, conv: 0.800)\n",
      "{Арбидол, Хлоргексидин} -> {Граммидин} (conf: 0.714, supp: 0.250, lift: 1.020, conv: 1.050)\n"
     ]
    }
   ],
   "source": [
    "freqItemSet, rules = eff_apriori(transactions, min_support=MINSUP, min_confidence=MINCONF)\n",
    "for rule in rules:\n",
    "    print(rule)"
   ]
  },
  {
   "cell_type": "code",
   "execution_count": 5,
   "metadata": {},
   "outputs": [
    {
     "data": {
      "text/plain": [
       "[[{'Нурофен'}, {'Граммидин'}, 1.0],\n",
       " [{'Мирамистин'}, {'Арбидол'}, 1.0],\n",
       " [{'Хлоргексидин'}, {'Арбидол'}, 0.7],\n",
       " [{'Арбидол', 'Хлоргексидин'}, {'Граммидин'}, 0.7142857142857143],\n",
       " [{'Граммидин', 'Хлоргексидин'}, {'Арбидол'}, 0.625],\n",
       " [{'Хлоргексидин'}, {'Граммидин'}, 0.8],\n",
       " [{'Арбидол'}, {'Граммидин'}, 0.6428571428571429],\n",
       " [{'Граммидин'}, {'Арбидол'}, 0.6428571428571429]]"
      ]
     },
     "execution_count": 5,
     "metadata": {},
     "output_type": "execute_result"
    }
   ],
   "source": [
    "freqItemSet, rules = fpgrowth(transactions, minSupRatio=MINSUP, minConf=MINCONF)\n",
    "rules"
   ]
  },
  {
   "cell_type": "markdown",
   "metadata": {},
   "source": [
    "###  Расчеты для варианта из репозитория (2 - BreadBasket_DMS.csv)"
   ]
  },
  {
   "cell_type": "code",
   "execution_count": 6,
   "metadata": {},
   "outputs": [],
   "source": [
    "raw_df = pd.read_csv('data/BreadBasket_DMS.csv')\n",
    "\n",
    "def cleanup_dataset(df):\n",
    "    # Returns new dataset without NONE values in specified c\n",
    "    df_none_entries = df.loc[df['Item']=='NONE',:]\n",
    "    return df.drop(df_none_entries.index)\n",
    "\n",
    "df = cleanup_dataset(raw_df)\n",
    "\n",
    "df = df[['Transaction', 'Item']].drop_duplicates()"
   ]
  },
  {
   "cell_type": "code",
   "execution_count": 7,
   "metadata": {},
   "outputs": [],
   "source": [
    "# Convert dataset to transaction list\n",
    "transactions = list()\n",
    "current_transaction = list()\n",
    "ta_number = 1\n",
    "\n",
    "for index, row in df.iterrows():\n",
    "    ta, i = row['Transaction'], row['Item']\n",
    "    if ta != ta_number:\n",
    "        # Filter transactions with only one element\n",
    "        if len(current_transaction) > 1:\n",
    "            transactions.append(current_transaction)\n",
    "        current_transaction = list()\n",
    "        ta_number = ta\n",
    "    current_transaction.append(i)"
   ]
  },
  {
   "cell_type": "code",
   "execution_count": 8,
   "metadata": {},
   "outputs": [],
   "source": [
    "MINSUP = 0.02\n",
    "MINCONF = 0.5\n",
    "\n",
    "# Time elapsed for all algorithms\n",
    "t = dict()"
   ]
  },
  {
   "cell_type": "code",
   "execution_count": 9,
   "metadata": {},
   "outputs": [
    {
     "data": {
      "text/plain": [
       "[[{'Soup'}, {'Coffee'}, 0.5244755244755245],\n",
       " [{'Brownie'}, {'Coffee'}, 0.5391304347826087],\n",
       " [{'Muffin'}, {'Coffee'}, 0.5493827160493827],\n",
       " [{'Scone'}, {'Coffee'}, 0.5643564356435643],\n",
       " [{'Juice'}, {'Coffee'}, 0.5652173913043478],\n",
       " [{'Cookies'}, {'Coffee'}, 0.5680851063829787],\n",
       " [{'Hot chocolate'}, {'Coffee'}, 0.5797101449275363],\n",
       " [{'Alfajores'}, {'Coffee'}, 0.5830721003134797],\n",
       " [{'Cake'}, {'Coffee'}, 0.5859728506787331],\n",
       " [{'Sandwich'}, {'Coffee'}, 0.5905383360522023],\n",
       " [{'Pastry'}, {'Coffee'}, 0.6],\n",
       " [{'Medialuna'}, {'Coffee'}, 0.6306818181818182],\n",
       " [{'Toast'}, {'Coffee'}, 0.7368421052631579]]"
      ]
     },
     "execution_count": 9,
     "metadata": {},
     "output_type": "execute_result"
    }
   ],
   "source": [
    "start = time.perf_counter()\n",
    "freqItemSet, rules = apriori(transactions, minSup=MINSUP, minConf=MINCONF)\n",
    "t['apriori_py'] = time.perf_counter() - start\n",
    "rules"
   ]
  },
  {
   "cell_type": "code",
   "execution_count": 10,
   "metadata": {},
   "outputs": [
    {
     "data": {
      "text/plain": [
       "[[{'Soup'}, {'Coffee'}, 0.5244755244755245],\n",
       " [{'Scone'}, {'Coffee'}, 0.5643564356435643],\n",
       " [{'Toast'}, {'Coffee'}, 0.7368421052631579],\n",
       " [{'Alfajores'}, {'Coffee'}, 0.5830721003134797],\n",
       " [{'Muffin'}, {'Coffee'}, 0.5493827160493827],\n",
       " [{'Juice'}, {'Coffee'}, 0.5652173913043478],\n",
       " [{'Brownie'}, {'Coffee'}, 0.5391304347826087],\n",
       " [{'Cookies'}, {'Coffee'}, 0.5680851063829787],\n",
       " [{'Hot chocolate'}, {'Coffee'}, 0.5797101449275363],\n",
       " [{'Medialuna'}, {'Coffee'}, 0.6306818181818182],\n",
       " [{'Sandwich'}, {'Coffee'}, 0.5905383360522023],\n",
       " [{'Pastry'}, {'Coffee'}, 0.6],\n",
       " [{'Cake'}, {'Coffee'}, 0.5859728506787331]]"
      ]
     },
     "execution_count": 10,
     "metadata": {},
     "output_type": "execute_result"
    }
   ],
   "source": [
    "start = time.perf_counter()\n",
    "freqItemSet, rules = fpgrowth(transactions, minSupRatio=MINSUP, minConf=MINCONF)\n",
    "t['fpgrowth'] = time.perf_counter() - start\n",
    "rules"
   ]
  },
  {
   "cell_type": "code",
   "execution_count": 11,
   "metadata": {},
   "outputs": [
    {
     "name": "stdout",
     "output_type": "stream",
     "text": [
      "{Alfajores} -> {Coffee} (conf: 0.583, supp: 0.034, lift: 0.965, conv: 0.949)\n",
      "{Brownie} -> {Coffee} (conf: 0.539, supp: 0.034, lift: 0.892, conv: 0.858)\n",
      "{Cake} -> {Coffee} (conf: 0.586, supp: 0.094, lift: 0.969, conv: 0.955)\n",
      "{Cookies} -> {Coffee} (conf: 0.568, supp: 0.048, lift: 0.940, conv: 0.916)\n",
      "{Hot chocolate} -> {Coffee} (conf: 0.580, supp: 0.051, lift: 0.959, conv: 0.941)\n",
      "{Juice} -> {Coffee} (conf: 0.565, supp: 0.035, lift: 0.935, conv: 0.910)\n",
      "{Medialuna} -> {Coffee} (conf: 0.631, supp: 0.060, lift: 1.043, conv: 1.071)\n",
      "{Muffin} -> {Coffee} (conf: 0.549, supp: 0.032, lift: 0.909, conv: 0.878)\n",
      "{Pastry} -> {Coffee} (conf: 0.600, supp: 0.082, lift: 0.993, conv: 0.989)\n",
      "{Sandwich} -> {Coffee} (conf: 0.591, supp: 0.066, lift: 0.977, conv: 0.966)\n",
      "{Scone} -> {Coffee} (conf: 0.564, supp: 0.031, lift: 0.934, conv: 0.908)\n",
      "{Soup} -> {Coffee} (conf: 0.524, supp: 0.027, lift: 0.868, conv: 0.832)\n",
      "{Toast} -> {Coffee} (conf: 0.737, supp: 0.041, lift: 1.219, conv: 1.503)\n"
     ]
    }
   ],
   "source": [
    "start = time.perf_counter()\n",
    "freqItemSet, rules = eff_apriori(transactions, min_support=MINSUP, min_confidence=MINCONF)\n",
    "t['eff_apriori'] = time.perf_counter() - start\n",
    "for rule in rules:\n",
    "    print(rule)"
   ]
  },
  {
   "cell_type": "code",
   "execution_count": 12,
   "metadata": {},
   "outputs": [
    {
     "name": "stdout",
     "output_type": "stream",
     "text": [
      "Time elapsed - apriori_py:    \t0.3619598 s\n",
      "Time elapsed - fpgrowth:      \t0.1401029 s\n",
      "Time elapsed - eff_apriori:   \t0.0060036 s\n",
      "Time elapsed graph (s)\n"
     ]
    },
    {
     "data": {
      "text/plain": [
       "<BarContainer object of 3 artists>"
      ]
     },
     "execution_count": 12,
     "metadata": {},
     "output_type": "execute_result"
    },
    {
     "data": {
      "image/png": "[encoded data removed]",
      "text/plain": [
       "<Figure size 640x480 with 1 Axes>"
      ]
     },
     "metadata": {},
     "output_type": "display_data"
    }
   ],
   "source": [
    "for k, v in t.items():\n",
    "    text = f\"Time elapsed - {k}:\"\n",
    "    print(f\"{text}{' '*(30 - len(text))}\\t{v:.7f} s\")\n",
    "    \n",
    "print('Time elapsed graph (s)')\n",
    "plt.bar(*zip(*t.items()))"
   ]
  },
  {
   "cell_type": "code",
   "execution_count": 13,
   "metadata": {},
   "outputs": [
    {
     "name": "stdout",
     "output_type": "stream",
     "text": [
      "Time elapsed graph (s) - Logarithmic scale\n"
     ]
    },
    {
     "data": {
      "text/plain": [
       "<BarContainer object of 3 artists>"
      ]
     },
     "execution_count": 13,
     "metadata": {},
     "output_type": "execute_result"
    },
    {
     "data": {
      "image/png": "[encoded data removed]",
      "text/plain": [
       "<Figure size 640x480 with 1 Axes>"
      ]
     },
     "metadata": {},
     "output_type": "display_data"
    }
   ],
   "source": [
    "print('Time elapsed graph (s) - Logarithmic scale')\n",
    "plt.bar(*zip(*t.items()), log=True)"
   ]
  },
  {
   "cell_type": "code",
   "execution_count": 14,
   "metadata": {},
   "outputs": [
    {
     "data": {
      "application/vnd.plotly.v1+json": {
       "config": {
        "plotlyServerURL": "https://plot.ly"
       },
       "data": [
        {
         "marker": {
          "color": [
           0.9645603530523139,
           0.8918688481846033,
           0.9693589856655382,
           0.9397677756866247,
           0.9589987614888208,
           0.9350237924516004,
           1.0433198173640452,
           0.9088289188738964,
           0.9925637181409296,
           0.9769115442278861,
           0.9335995368652308,
           0.8676256277455678,
           1.218937899471317
          ],
          "colorbar": {
           "title": {
            "text": "Lift"
           }
          },
          "colorscale": [
           [
            0,
            "rgb(243, 224, 247)"
           ],
           [
            0.16666666666666666,
            "rgb(228, 199, 241)"
           ],
           [
            0.3333333333333333,
            "rgb(209, 175, 232)"
           ],
           [
            0.5,
            "rgb(185, 152, 221)"
           ],
           [
            0.6666666666666666,
            "rgb(159, 130, 206)"
           ],
           [
            0.8333333333333334,
            "rgb(130, 109, 186)"
           ],
           [
            1,
            "rgb(99, 88, 159)"
           ]
          ]
         },
         "mode": "markers",
         "text": [
          "('Alfajores',) => ('Coffee',), Lift: 0.9645603530523139",
          "('Brownie',) => ('Coffee',), Lift: 0.8918688481846033",
          "('Cake',) => ('Coffee',), Lift: 0.9693589856655382",
          "('Cookies',) => ('Coffee',), Lift: 0.9397677756866247",
          "('Hot chocolate',) => ('Coffee',), Lift: 0.9589987614888208",
          "('Juice',) => ('Coffee',), Lift: 0.9350237924516004",
          "('Medialuna',) => ('Coffee',), Lift: 1.0433198173640452",
          "('Muffin',) => ('Coffee',), Lift: 0.9088289188738964",
          "('Pastry',) => ('Coffee',), Lift: 0.9925637181409296",
          "('Sandwich',) => ('Coffee',), Lift: 0.9769115442278861",
          "('Scone',) => ('Coffee',), Lift: 0.9335995368652308",
          "('Soup',) => ('Coffee',), Lift: 0.8676256277455678",
          "('Toast',) => ('Coffee',), Lift: 1.218937899471317"
         ],
         "type": "scatter",
         "x": [
          0.03371397498640565,
          0.03371397498640565,
          0.0938916077578394,
          0.048395867319195214,
          0.050752220409642924,
          0.03534529635671561,
          0.06035889070146819,
          0.03226391154613014,
          0.08156606851549755,
          0.06561537067246692,
          0.03099510603588907,
          0.027188689505165852,
          0.04060177632771434
         ],
         "y": [
          0.5830721003134797,
          0.5391304347826087,
          0.5859728506787331,
          0.5680851063829787,
          0.5797101449275363,
          0.5652173913043478,
          0.6306818181818182,
          0.5493827160493827,
          0.6,
          0.5905383360522023,
          0.5643564356435643,
          0.5244755244755245,
          0.7368421052631579
         ]
        }
       ],
       "layout": {
        "template": {
         "data": {
          "bar": [
           {
            "error_x": {
             "color": "#2a3f5f"
            },
            "error_y": {
             "color": "#2a3f5f"
            },
            "marker": {
             "line": {
              "color": "#E5ECF6",
              "width": 0.5
             },
             "pattern": {
              "fillmode": "overlay",
              "size": 10,
              "solidity": 0.2
             }
            },
            "type": "bar"
           }
          ],
          "barpolar": [
           {
            "marker": {
             "line": {
              "color": "#E5ECF6",
              "width": 0.5
             },
             "pattern": {
              "fillmode": "overlay",
              "size": 10,
              "solidity": 0.2
             }
            },
            "type": "barpolar"
           }
          ],
          "carpet": [
           {
            "aaxis": {
             "endlinecolor": "#2a3f5f",
             "gridcolor": "white",
             "linecolor": "white",
             "minorgridcolor": "white",
             "startlinecolor": "#2a3f5f"
            },
            "baxis": {
             "endlinecolor": "#2a3f5f",
             "gridcolor": "white",
             "linecolor": "white",
             "minorgridcolor": "white",
             "startlinecolor": "#2a3f5f"
            },
            "type": "carpet"
           }
          ],
          "choropleth": [
           {
            "colorbar": {
             "outlinewidth": 0,
             "ticks": ""
            },
            "type": "choropleth"
           }
          ],
          "contour": [
           {
            "colorbar": {
             "outlinewidth": 0,
             "ticks": ""
            },
            "colorscale": [
             [
              0,
              "#0d0887"
             ],
             [
              0.1111111111111111,
              "#46039f"
             ],
             [
              0.2222222222222222,
              "#7201a8"
             ],
             [
              0.3333333333333333,
              "#9c179e"
             ],
             [
              0.4444444444444444,
              "#bd3786"
             ],
             [
              0.5555555555555556,
              "#d8576b"
             ],
             [
              0.6666666666666666,
              "#ed7953"
             ],
             [
              0.7777777777777778,
              "#fb9f3a"
             ],
             [
              0.8888888888888888,
              "#fdca26"
             ],
             [
              1,
              "#f0f921"
             ]
            ],
            "type": "contour"
           }
          ],
          "contourcarpet": [
           {
            "colorbar": {
             "outlinewidth": 0,
             "ticks": ""
            },
            "type": "contourcarpet"
           }
          ],
          "heatmap": [
           {
            "colorbar": {
             "outlinewidth": 0,
             "ticks": ""
            },
            "colorscale": [
             [
              0,
              "#0d0887"
             ],
             [
              0.1111111111111111,
              "#46039f"
             ],
             [
              0.2222222222222222,
              "#7201a8"
             ],
             [
              0.3333333333333333,
              "#9c179e"
             ],
             [
              0.4444444444444444,
              "#bd3786"
             ],
             [
              0.5555555555555556,
              "#d8576b"
             ],
             [
              0.6666666666666666,
              "#ed7953"
             ],
             [
              0.7777777777777778,
              "#fb9f3a"
             ],
             [
              0.8888888888888888,
              "#fdca26"
             ],
             [
              1,
              "#f0f921"
             ]
            ],
            "type": "heatmap"
           }
          ],
          "heatmapgl": [
           {
            "colorbar": {
             "outlinewidth": 0,
             "ticks": ""
            },
            "colorscale": [
             [
              0,
              "#0d0887"
             ],
             [
              0.1111111111111111,
              "#46039f"
             ],
             [
              0.2222222222222222,
              "#7201a8"
             ],
             [
              0.3333333333333333,
              "#9c179e"
             ],
             [
              0.4444444444444444,
              "#bd3786"
             ],
             [
              0.5555555555555556,
              "#d8576b"
             ],
             [
              0.6666666666666666,
              "#ed7953"
             ],
             [
              0.7777777777777778,
              "#fb9f3a"
             ],
             [
              0.8888888888888888,
              "#fdca26"
             ],
             [
              1,
              "#f0f921"
             ]
            ],
            "type": "heatmapgl"
           }
          ],
          "histogram": [
           {
            "marker": {
             "pattern": {
              "fillmode": "overlay",
              "size": 10,
              "solidity": 0.2
             }
            },
            "type": "histogram"
           }
          ],
          "histogram2d": [
           {
            "colorbar": {
             "outlinewidth": 0,
             "ticks": ""
            },
            "colorscale": [
             [
              0,
              "#0d0887"
             ],
             [
              0.1111111111111111,
              "#46039f"
             ],
             [
              0.2222222222222222,
              "#7201a8"
             ],
             [
              0.3333333333333333,
              "#9c179e"
             ],
             [
              0.4444444444444444,
              "#bd3786"
             ],
             [
              0.5555555555555556,
              "#d8576b"
             ],
             [
              0.6666666666666666,
              "#ed7953"
             ],
             [
              0.7777777777777778,
              "#fb9f3a"
             ],
             [
              0.8888888888888888,
              "#fdca26"
             ],
             [
              1,
              "#f0f921"
             ]
            ],
            "type": "histogram2d"
           }
          ],
          "histogram2dcontour": [
           {
            "colorbar": {
             "outlinewidth": 0,
             "ticks": ""
            },
            "colorscale": [
             [
              0,
              "#0d0887"
             ],
             [
              0.1111111111111111,
              "#46039f"
             ],
             [
              0.2222222222222222,
              "#7201a8"
             ],
             [
              0.3333333333333333,
              "#9c179e"
             ],
             [
              0.4444444444444444,
              "#bd3786"
             ],
             [
              0.5555555555555556,
              "#d8576b"
             ],
             [
              0.6666666666666666,
              "#ed7953"
             ],
             [
              0.7777777777777778,
              "#fb9f3a"
             ],
             [
              0.8888888888888888,
              "#fdca26"
             ],
             [
              1,
              "#f0f921"
             ]
            ],
            "type": "histogram2dcontour"
           }
          ],
          "mesh3d": [
           {
            "colorbar": {
             "outlinewidth": 0,
             "ticks": ""
            },
            "type": "mesh3d"
           }
          ],
          "parcoords": [
           {
            "line": {
             "colorbar": {
              "outlinewidth": 0,
              "ticks": ""
             }
            },
            "type": "parcoords"
           }
          ],
          "pie": [
           {
            "automargin": true,
            "type": "pie"
           }
          ],
          "scatter": [
           {
            "fillpattern": {
             "fillmode": "overlay",
             "size": 10,
             "solidity": 0.2
            },
            "type": "scatter"
           }
          ],
          "scatter3d": [
           {
            "line": {
             "colorbar": {
              "outlinewidth": 0,
              "ticks": ""
             }
            },
            "marker": {
             "colorbar": {
              "outlinewidth": 0,
              "ticks": ""
             }
            },
            "type": "scatter3d"
           }
          ],
          "scattercarpet": [
           {
            "marker": {
             "colorbar": {
              "outlinewidth": 0,
              "ticks": ""
             }
            },
            "type": "scattercarpet"
           }
          ],
          "scattergeo": [
           {
            "marker": {
             "colorbar": {
              "outlinewidth": 0,
              "ticks": ""
             }
            },
            "type": "scattergeo"
           }
          ],
          "scattergl": [
           {
            "marker": {
             "colorbar": {
              "outlinewidth": 0,
              "ticks": ""
             }
            },
            "type": "scattergl"
           }
          ],
          "scattermapbox": [
           {
            "marker": {
             "colorbar": {
              "outlinewidth": 0,
              "ticks": ""
             }
            },
            "type": "scattermapbox"
           }
          ],
          "scatterpolar": [
           {
            "marker": {
             "colorbar": {
              "outlinewidth": 0,
              "ticks": ""
             }
            },
            "type": "scatterpolar"
           }
          ],
          "scatterpolargl": [
           {
            "marker": {
             "colorbar": {
              "outlinewidth": 0,
              "ticks": ""
             }
            },
            "type": "scatterpolargl"
           }
          ],
          "scatterternary": [
           {
            "marker": {
             "colorbar": {
              "outlinewidth": 0,
              "ticks": ""
             }
            },
            "type": "scatterternary"
           }
          ],
          "surface": [
           {
            "colorbar": {
             "outlinewidth": 0,
             "ticks": ""
            },
            "colorscale": [
             [
              0,
              "#0d0887"
             ],
             [
              0.1111111111111111,
              "#46039f"
             ],
             [
              0.2222222222222222,
              "#7201a8"
             ],
             [
              0.3333333333333333,
              "#9c179e"
             ],
             [
              0.4444444444444444,
              "#bd3786"
             ],
             [
              0.5555555555555556,
              "#d8576b"
             ],
             [
              0.6666666666666666,
              "#ed7953"
             ],
             [
              0.7777777777777778,
              "#fb9f3a"
             ],
             [
              0.8888888888888888,
              "#fdca26"
             ],
             [
              1,
              "#f0f921"
             ]
            ],
            "type": "surface"
           }
          ],
          "table": [
           {
            "cells": {
             "fill": {
              "color": "#EBF0F8"
             },
             "line": {
              "color": "white"
             }
            },
            "header": {
             "fill": {
              "color": "#C8D4E3"
             },
             "line": {
              "color": "white"
             }
            },
            "type": "table"
           }
          ]
         },
         "layout": {
          "annotationdefaults": {
           "arrowcolor": "#2a3f5f",
           "arrowhead": 0,
           "arrowwidth": 1
          },
          "autotypenumbers": "strict",
          "coloraxis": {
           "colorbar": {
            "outlinewidth": 0,
            "ticks": ""
           }
          },
          "colorscale": {
           "diverging": [
            [
             0,
             "#8e0152"
            ],
            [
             0.1,
             "#c51b7d"
            ],
            [
             0.2,
             "#de77ae"
            ],
            [
             0.3,
             "#f1b6da"
            ],
            [
             0.4,
             "#fde0ef"
            ],
            [
             0.5,
             "#f7f7f7"
            ],
            [
             0.6,
             "#e6f5d0"
            ],
            [
             0.7,
             "#b8e186"
            ],
            [
             0.8,
             "#7fbc41"
            ],
            [
             0.9,
             "#4d9221"
            ],
            [
             1,
             "#276419"
            ]
           ],
           "sequential": [
            [
             0,
             "#0d0887"
            ],
            [
             0.1111111111111111,
             "#46039f"
            ],
            [
             0.2222222222222222,
             "#7201a8"
            ],
            [
             0.3333333333333333,
             "#9c179e"
            ],
            [
             0.4444444444444444,
             "#bd3786"
            ],
            [
             0.5555555555555556,
             "#d8576b"
            ],
            [
             0.6666666666666666,
             "#ed7953"
            ],
            [
             0.7777777777777778,
             "#fb9f3a"
            ],
            [
             0.8888888888888888,
             "#fdca26"
            ],
            [
             1,
             "#f0f921"
            ]
           ],
           "sequentialminus": [
            [
             0,
             "#0d0887"
            ],
            [
             0.1111111111111111,
             "#46039f"
            ],
            [
             0.2222222222222222,
             "#7201a8"
            ],
            [
             0.3333333333333333,
             "#9c179e"
            ],
            [
             0.4444444444444444,
             "#bd3786"
            ],
            [
             0.5555555555555556,
             "#d8576b"
            ],
            [
             0.6666666666666666,
             "#ed7953"
            ],
            [
             0.7777777777777778,
             "#fb9f3a"
            ],
            [
             0.8888888888888888,
             "#fdca26"
            ],
            [
             1,
             "#f0f921"
            ]
           ]
          },
          "colorway": [
           "#636efa",
           "#EF553B",
           "#00cc96",
           "#ab63fa",
           "#FFA15A",
           "#19d3f3",
           "#FF6692",
           "#B6E880",
           "#FF97FF",
           "#FECB52"
          ],
          "font": {
           "color": "#2a3f5f"
          },
          "geo": {
           "bgcolor": "white",
           "lakecolor": "white",
           "landcolor": "#E5ECF6",
           "showlakes": true,
           "showland": true,
           "subunitcolor": "white"
          },
          "hoverlabel": {
           "align": "left"
          },
          "hovermode": "closest",
          "mapbox": {
           "style": "light"
          },
          "paper_bgcolor": "white",
          "plot_bgcolor": "#E5ECF6",
          "polar": {
           "angularaxis": {
            "gridcolor": "white",
            "linecolor": "white",
            "ticks": ""
           },
           "bgcolor": "#E5ECF6",
           "radialaxis": {
            "gridcolor": "white",
            "linecolor": "white",
            "ticks": ""
           }
          },
          "scene": {
           "xaxis": {
            "backgroundcolor": "#E5ECF6",
            "gridcolor": "white",
            "gridwidth": 2,
            "linecolor": "white",
            "showbackground": true,
            "ticks": "",
            "zerolinecolor": "white"
           },
           "yaxis": {
            "backgroundcolor": "#E5ECF6",
            "gridcolor": "white",
            "gridwidth": 2,
            "linecolor": "white",
            "showbackground": true,
            "ticks": "",
            "zerolinecolor": "white"
           },
           "zaxis": {
            "backgroundcolor": "#E5ECF6",
            "gridcolor": "white",
            "gridwidth": 2,
            "linecolor": "white",
            "showbackground": true,
            "ticks": "",
            "zerolinecolor": "white"
           }
          },
          "shapedefaults": {
           "line": {
            "color": "#2a3f5f"
           }
          },
          "ternary": {
           "aaxis": {
            "gridcolor": "white",
            "linecolor": "white",
            "ticks": ""
           },
           "baxis": {
            "gridcolor": "white",
            "linecolor": "white",
            "ticks": ""
           },
           "bgcolor": "#E5ECF6",
           "caxis": {
            "gridcolor": "white",
            "linecolor": "white",
            "ticks": ""
           }
          },
          "title": {
           "x": 0.05
          },
          "xaxis": {
           "automargin": true,
           "gridcolor": "white",
           "linecolor": "white",
           "ticks": "",
           "title": {
            "standoff": 15
           },
           "zerolinecolor": "white",
           "zerolinewidth": 2
          },
          "yaxis": {
           "automargin": true,
           "gridcolor": "white",
           "linecolor": "white",
           "ticks": "",
           "title": {
            "standoff": 15
           },
           "zerolinecolor": "white",
           "zerolinewidth": 2
          }
         }
        },
        "title": {
         "text": "Association Rules Strength Distribution"
        },
        "xaxis": {
         "autorange": "reversed",
         "title": {
          "text": "Support"
         }
        },
        "yaxis": {
         "title": {
          "text": "Confidence"
         }
        }
       }
      }
     },
     "metadata": {},
     "output_type": "display_data"
    },
    {
     "data": {
      "application/vnd.plotly.v1+json": {
       "config": {
        "plotlyServerURL": "https://plot.ly"
       },
       "data": [
        {
         "hoverinfo": "none",
         "line": {
          "color": "#888",
          "width": 0.5
         },
         "mode": "lines",
         "type": "scatter",
         "x": [
          -0.09483182685054035,
          -0.5775845213679501,
          null,
          0.806369460866699,
          -0.09483182685054035,
          null,
          -0.47682866501568877,
          -0.5775845213679501,
          null,
          -0.009506644011464354,
          -0.47682866501568877,
          null,
          0.04659740663472627,
          -0.5775845213679501,
          null,
          0.7340983993476063,
          0.04659740663472627,
          null,
          0.03668638711059892,
          -0.5775845213679501,
          null,
          0.4995636097261828,
          0.03668638711059892,
          null,
          -0.07071373593730491,
          -0.5775845213679501,
          null,
          0.7960398350723693,
          -0.07071373593730491,
          null,
          -0.3319044555785234,
          -0.5775845213679501,
          null,
          -0.37711292043535566,
          -0.3319044555785234,
          null,
          -0.03899573305990737,
          -0.5775845213679501,
          null,
          0.23044462742614438,
          -0.03899573305990737,
          null,
          -0.8504426846425025,
          -0.5775845213679501,
          null,
          -0.5797873932135016,
          -0.8504426846425025,
          null,
          0.2996160224076238,
          -0.5775845213679501,
          null,
          0.8795490014707754,
          0.2996160224076238,
          null,
          0.20573625398623407,
          -0.5775845213679501,
          null,
          0.7269138701849222,
          0.20573625398623407,
          null,
          -0.18137788969010843,
          -0.5775845213679501,
          null,
          -0.6284382309091727,
          -0.18137788969010843,
          null,
          -0.3410640256885867,
          -0.5775845213679501,
          null,
          0.2906004115475874,
          -0.3410640256885867,
          null,
          -0.3187123414725112,
          -0.5775845213679501,
          null,
          -0.674914217908334,
          -0.3187123414725112,
          null
         ],
         "y": [
          -0.7959593260624729,
          -0.6764890887203445,
          null,
          -0.03709212217768308,
          -0.7959593260624729,
          null,
          0.1262394274501099,
          -0.6764890887203445,
          null,
          0.9761104114491223,
          0.1262394274501099,
          null,
          -0.1516153524916978,
          -0.6764890887203445,
          null,
          0.35644564998628653,
          -0.1516153524916978,
          null,
          0.04321271850516409,
          -0.6764890887203445,
          null,
          0.6365121031938544,
          0.04321271850516409,
          null,
          -1,
          -0.6764890887203445,
          null,
          -0.36981934428679614,
          -1,
          null,
          -0.031527049217796484,
          -0.6764890887203445,
          null,
          0.5950522536959603,
          -0.031527049217796484,
          null,
          0.28893439580586217,
          -0.6764890887203445,
          null,
          0.9761005121385856,
          0.28893439580586217,
          null,
          -0.18510127090312864,
          -0.6764890887203445,
          null,
          0.809806730849562,
          -0.18510127090312864,
          null,
          -0.2716410221791925,
          -0.6764890887203445,
          null,
          -0.5742096739872381,
          -0.2716410221791925,
          null,
          0.24505858478593345,
          -0.6764890887203445,
          null,
          0.8036737842695808,
          0.24505858478593345,
          null,
          0.04790927569968336,
          -0.6764890887203445,
          null,
          0.47652614386034714,
          0.04790927569968336,
          null,
          -0.6213036600224537,
          -0.6764890887203445,
          null,
          -0.17350366042635743,
          -0.6213036600224537,
          null,
          -0.9246729913400823,
          -0.6764890887203445,
          null,
          -0.5686474298747519,
          -0.9246729913400823,
          null
         ]
        },
        {
         "hoverinfo": "text",
         "marker": {
          "color": [],
          "colorbar": {
           "thickness": 15,
           "title": {
            "side": "right",
            "text": "Node Connections"
           },
           "xanchor": "left"
          },
          "colorscale": [
           [
            0,
            "rgb(255,255,217)"
           ],
           [
            0.125,
            "rgb(237,248,177)"
           ],
           [
            0.25,
            "rgb(199,233,180)"
           ],
           [
            0.375,
            "rgb(127,205,187)"
           ],
           [
            0.5,
            "rgb(65,182,196)"
           ],
           [
            0.625,
            "rgb(29,145,192)"
           ],
           [
            0.75,
            "rgb(34,94,168)"
           ],
           [
            0.875,
            "rgb(37,52,148)"
           ],
           [
            1,
            "rgb(8,29,88)"
           ]
          ],
          "line": {
           "width": 2
          },
          "reversescale": true,
          "showscale": true,
          "size": 10
         },
         "mode": "markers",
         "text": [
          "0",
          "Alfajores",
          "Coffee",
          "1",
          "Brownie",
          "2",
          "Cake",
          "3",
          "Cookies",
          "4",
          "Hot chocolate",
          "5",
          "Juice",
          "6",
          "Medialuna",
          "7",
          "Muffin",
          "8",
          "Pastry",
          "9",
          "Sandwich",
          "10",
          "Scone",
          "11",
          "Soup",
          "12",
          "Toast"
         ],
         "type": "scatter",
         "x": [
          -0.09483182685054035,
          0.806369460866699,
          -0.5775845213679501,
          -0.47682866501568877,
          -0.009506644011464354,
          0.04659740663472627,
          0.7340983993476063,
          0.03668638711059892,
          0.4995636097261828,
          -0.07071373593730491,
          0.7960398350723693,
          -0.3319044555785234,
          -0.37711292043535566,
          -0.03899573305990737,
          0.23044462742614438,
          -0.8504426846425025,
          -0.5797873932135016,
          0.2996160224076238,
          0.8795490014707754,
          0.20573625398623407,
          0.7269138701849222,
          -0.18137788969010843,
          -0.6284382309091727,
          -0.3410640256885867,
          0.2906004115475874,
          -0.3187123414725112,
          -0.674914217908334
         ],
         "y": [
          -0.7959593260624729,
          -0.03709212217768308,
          -0.6764890887203445,
          0.1262394274501099,
          0.9761104114491223,
          -0.1516153524916978,
          0.35644564998628653,
          0.04321271850516409,
          0.6365121031938544,
          -1,
          -0.36981934428679614,
          -0.031527049217796484,
          0.5950522536959603,
          0.28893439580586217,
          0.9761005121385856,
          -0.18510127090312864,
          0.809806730849562,
          -0.2716410221791925,
          -0.5742096739872381,
          0.24505858478593345,
          0.8036737842695808,
          0.04790927569968336,
          0.47652614386034714,
          -0.6213036600224537,
          -0.17350366042635743,
          -0.9246729913400823,
          -0.5686474298747519
         ]
        }
       ],
       "layout": {
        "annotations": [
         {
          "showarrow": false,
          "text": "Python code: <a href='https://plotly.com/ipython-notebooks/network-graphs/'> https://plotly.com/ipython-notebooks/network-graphs/</a>",
          "x": 0.005,
          "xref": "paper",
          "y": -0.002,
          "yref": "paper"
         }
        ],
        "hovermode": "closest",
        "margin": {
         "b": 20,
         "l": 5,
         "r": 5,
         "t": 40
        },
        "showlegend": false,
        "template": {
         "data": {
          "bar": [
           {
            "error_x": {
             "color": "#2a3f5f"
            },
            "error_y": {
             "color": "#2a3f5f"
            },
            "marker": {
             "line": {
              "color": "#E5ECF6",
              "width": 0.5
             },
             "pattern": {
              "fillmode": "overlay",
              "size": 10,
              "solidity": 0.2
             }
            },
            "type": "bar"
           }
          ],
          "barpolar": [
           {
            "marker": {
             "line": {
              "color": "#E5ECF6",
              "width": 0.5
             },
             "pattern": {
              "fillmode": "overlay",
              "size": 10,
              "solidity": 0.2
             }
            },
            "type": "barpolar"
           }
          ],
          "carpet": [
           {
            "aaxis": {
             "endlinecolor": "#2a3f5f",
             "gridcolor": "white",
             "linecolor": "white",
             "minorgridcolor": "white",
             "startlinecolor": "#2a3f5f"
            },
            "baxis": {
             "endlinecolor": "#2a3f5f",
             "gridcolor": "white",
             "linecolor": "white",
             "minorgridcolor": "white",
             "startlinecolor": "#2a3f5f"
            },
            "type": "carpet"
           }
          ],
          "choropleth": [
           {
            "colorbar": {
             "outlinewidth": 0,
             "ticks": ""
            },
            "type": "choropleth"
           }
          ],
          "contour": [
           {
            "colorbar": {
             "outlinewidth": 0,
             "ticks": ""
            },
            "colorscale": [
             [
              0,
              "#0d0887"
             ],
             [
              0.1111111111111111,
              "#46039f"
             ],
             [
              0.2222222222222222,
              "#7201a8"
             ],
             [
              0.3333333333333333,
              "#9c179e"
             ],
             [
              0.4444444444444444,
              "#bd3786"
             ],
             [
              0.5555555555555556,
              "#d8576b"
             ],
             [
              0.6666666666666666,
              "#ed7953"
             ],
             [
              0.7777777777777778,
              "#fb9f3a"
             ],
             [
              0.8888888888888888,
              "#fdca26"
             ],
             [
              1,
              "#f0f921"
             ]
            ],
            "type": "contour"
           }
          ],
          "contourcarpet": [
           {
            "colorbar": {
             "outlinewidth": 0,
             "ticks": ""
            },
            "type": "contourcarpet"
           }
          ],
          "heatmap": [
           {
            "colorbar": {
             "outlinewidth": 0,
             "ticks": ""
            },
            "colorscale": [
             [
              0,
              "#0d0887"
             ],
             [
              0.1111111111111111,
              "#46039f"
             ],
             [
              0.2222222222222222,
              "#7201a8"
             ],
             [
              0.3333333333333333,
              "#9c179e"
             ],
             [
              0.4444444444444444,
              "#bd3786"
             ],
             [
              0.5555555555555556,
              "#d8576b"
             ],
             [
              0.6666666666666666,
              "#ed7953"
             ],
             [
              0.7777777777777778,
              "#fb9f3a"
             ],
             [
              0.8888888888888888,
              "#fdca26"
             ],
             [
              1,
              "#f0f921"
             ]
            ],
            "type": "heatmap"
           }
          ],
          "heatmapgl": [
           {
            "colorbar": {
             "outlinewidth": 0,
             "ticks": ""
            },
            "colorscale": [
             [
              0,
              "#0d0887"
             ],
             [
              0.1111111111111111,
              "#46039f"
             ],
             [
              0.2222222222222222,
              "#7201a8"
             ],
             [
              0.3333333333333333,
              "#9c179e"
             ],
             [
              0.4444444444444444,
              "#bd3786"
             ],
             [
              0.5555555555555556,
              "#d8576b"
             ],
             [
              0.6666666666666666,
              "#ed7953"
             ],
             [
              0.7777777777777778,
              "#fb9f3a"
             ],
             [
              0.8888888888888888,
              "#fdca26"
             ],
             [
              1,
              "#f0f921"
             ]
            ],
            "type": "heatmapgl"
           }
          ],
          "histogram": [
           {
            "marker": {
             "pattern": {
              "fillmode": "overlay",
              "size": 10,
              "solidity": 0.2
             }
            },
            "type": "histogram"
           }
          ],
          "histogram2d": [
           {
            "colorbar": {
             "outlinewidth": 0,
             "ticks": ""
            },
            "colorscale": [
             [
              0,
              "#0d0887"
             ],
             [
              0.1111111111111111,
              "#46039f"
             ],
             [
              0.2222222222222222,
              "#7201a8"
             ],
             [
              0.3333333333333333,
              "#9c179e"
             ],
             [
              0.4444444444444444,
              "#bd3786"
             ],
             [
              0.5555555555555556,
              "#d8576b"
             ],
             [
              0.6666666666666666,
              "#ed7953"
             ],
             [
              0.7777777777777778,
              "#fb9f3a"
             ],
             [
              0.8888888888888888,
              "#fdca26"
             ],
             [
              1,
              "#f0f921"
             ]
            ],
            "type": "histogram2d"
           }
          ],
          "histogram2dcontour": [
           {
            "colorbar": {
             "outlinewidth": 0,
             "ticks": ""
            },
            "colorscale": [
             [
              0,
              "#0d0887"
             ],
             [
              0.1111111111111111,
              "#46039f"
             ],
             [
              0.2222222222222222,
              "#7201a8"
             ],
             [
              0.3333333333333333,
              "#9c179e"
             ],
             [
              0.4444444444444444,
              "#bd3786"
             ],
             [
              0.5555555555555556,
              "#d8576b"
             ],
             [
              0.6666666666666666,
              "#ed7953"
             ],
             [
              0.7777777777777778,
              "#fb9f3a"
             ],
             [
              0.8888888888888888,
              "#fdca26"
             ],
             [
              1,
              "#f0f921"
             ]
            ],
            "type": "histogram2dcontour"
           }
          ],
          "mesh3d": [
           {
            "colorbar": {
             "outlinewidth": 0,
             "ticks": ""
            },
            "type": "mesh3d"
           }
          ],
          "parcoords": [
           {
            "line": {
             "colorbar": {
              "outlinewidth": 0,
              "ticks": ""
             }
            },
            "type": "parcoords"
           }
          ],
          "pie": [
           {
            "automargin": true,
            "type": "pie"
           }
          ],
          "scatter": [
           {
            "fillpattern": {
             "fillmode": "overlay",
             "size": 10,
             "solidity": 0.2
            },
            "type": "scatter"
           }
          ],
          "scatter3d": [
           {
            "line": {
             "colorbar": {
              "outlinewidth": 0,
              "ticks": ""
             }
            },
            "marker": {
             "colorbar": {
              "outlinewidth": 0,
              "ticks": ""
             }
            },
            "type": "scatter3d"
           }
          ],
          "scattercarpet": [
           {
            "marker": {
             "colorbar": {
              "outlinewidth": 0,
              "ticks": ""
             }
            },
            "type": "scattercarpet"
           }
          ],
          "scattergeo": [
           {
            "marker": {
             "colorbar": {
              "outlinewidth": 0,
              "ticks": ""
             }
            },
            "type": "scattergeo"
           }
          ],
          "scattergl": [
           {
            "marker": {
             "colorbar": {
              "outlinewidth": 0,
              "ticks": ""
             }
            },
            "type": "scattergl"
           }
          ],
          "scattermapbox": [
           {
            "marker": {
             "colorbar": {
              "outlinewidth": 0,
              "ticks": ""
             }
            },
            "type": "scattermapbox"
           }
          ],
          "scatterpolar": [
           {
            "marker": {
             "colorbar": {
              "outlinewidth": 0,
              "ticks": ""
             }
            },
            "type": "scatterpolar"
           }
          ],
          "scatterpolargl": [
           {
            "marker": {
             "colorbar": {
              "outlinewidth": 0,
              "ticks": ""
             }
            },
            "type": "scatterpolargl"
           }
          ],
          "scatterternary": [
           {
            "marker": {
             "colorbar": {
              "outlinewidth": 0,
              "ticks": ""
             }
            },
            "type": "scatterternary"
           }
          ],
          "surface": [
           {
            "colorbar": {
             "outlinewidth": 0,
             "ticks": ""
            },
            "colorscale": [
             [
              0,
              "#0d0887"
             ],
             [
              0.1111111111111111,
              "#46039f"
             ],
             [
              0.2222222222222222,
              "#7201a8"
             ],
             [
              0.3333333333333333,
              "#9c179e"
             ],
             [
              0.4444444444444444,
              "#bd3786"
             ],
             [
              0.5555555555555556,
              "#d8576b"
             ],
             [
              0.6666666666666666,
              "#ed7953"
             ],
             [
              0.7777777777777778,
              "#fb9f3a"
             ],
             [
              0.8888888888888888,
              "#fdca26"
             ],
             [
              1,
              "#f0f921"
             ]
            ],
            "type": "surface"
           }
          ],
          "table": [
           {
            "cells": {
             "fill": {
              "color": "#EBF0F8"
             },
             "line": {
              "color": "white"
             }
            },
            "header": {
             "fill": {
              "color": "#C8D4E3"
             },
             "line": {
              "color": "white"
             }
            },
            "type": "table"
           }
          ]
         },
         "layout": {
          "annotationdefaults": {
           "arrowcolor": "#2a3f5f",
           "arrowhead": 0,
           "arrowwidth": 1
          },
          "autotypenumbers": "strict",
          "coloraxis": {
           "colorbar": {
            "outlinewidth": 0,
            "ticks": ""
           }
          },
          "colorscale": {
           "diverging": [
            [
             0,
             "#8e0152"
            ],
            [
             0.1,
             "#c51b7d"
            ],
            [
             0.2,
             "#de77ae"
            ],
            [
             0.3,
             "#f1b6da"
            ],
            [
             0.4,
             "#fde0ef"
            ],
            [
             0.5,
             "#f7f7f7"
            ],
            [
             0.6,
             "#e6f5d0"
            ],
            [
             0.7,
             "#b8e186"
            ],
            [
             0.8,
             "#7fbc41"
            ],
            [
             0.9,
             "#4d9221"
            ],
            [
             1,
             "#276419"
            ]
           ],
           "sequential": [
            [
             0,
             "#0d0887"
            ],
            [
             0.1111111111111111,
             "#46039f"
            ],
            [
             0.2222222222222222,
             "#7201a8"
            ],
            [
             0.3333333333333333,
             "#9c179e"
            ],
            [
             0.4444444444444444,
             "#bd3786"
            ],
            [
             0.5555555555555556,
             "#d8576b"
            ],
            [
             0.6666666666666666,
             "#ed7953"
            ],
            [
             0.7777777777777778,
             "#fb9f3a"
            ],
            [
             0.8888888888888888,
             "#fdca26"
            ],
            [
             1,
             "#f0f921"
            ]
           ],
           "sequentialminus": [
            [
             0,
             "#0d0887"
            ],
            [
             0.1111111111111111,
             "#46039f"
            ],
            [
             0.2222222222222222,
             "#7201a8"
            ],
            [
             0.3333333333333333,
             "#9c179e"
            ],
            [
             0.4444444444444444,
             "#bd3786"
            ],
            [
             0.5555555555555556,
             "#d8576b"
            ],
            [
             0.6666666666666666,
             "#ed7953"
            ],
            [
             0.7777777777777778,
             "#fb9f3a"
            ],
            [
             0.8888888888888888,
             "#fdca26"
            ],
            [
             1,
             "#f0f921"
            ]
           ]
          },
          "colorway": [
           "#636efa",
           "#EF553B",
           "#00cc96",
           "#ab63fa",
           "#FFA15A",
           "#19d3f3",
           "#FF6692",
           "#B6E880",
           "#FF97FF",
           "#FECB52"
          ],
          "font": {
           "color": "#2a3f5f"
          },
          "geo": {
           "bgcolor": "white",
           "lakecolor": "white",
           "landcolor": "#E5ECF6",
           "showlakes": true,
           "showland": true,
           "subunitcolor": "white"
          },
          "hoverlabel": {
           "align": "left"
          },
          "hovermode": "closest",
          "mapbox": {
           "style": "light"
          },
          "paper_bgcolor": "white",
          "plot_bgcolor": "#E5ECF6",
          "polar": {
           "angularaxis": {
            "gridcolor": "white",
            "linecolor": "white",
            "ticks": ""
           },
           "bgcolor": "#E5ECF6",
           "radialaxis": {
            "gridcolor": "white",
            "linecolor": "white",
            "ticks": ""
           }
          },
          "scene": {
           "xaxis": {
            "backgroundcolor": "#E5ECF6",
            "gridcolor": "white",
            "gridwidth": 2,
            "linecolor": "white",
            "showbackground": true,
            "ticks": "",
            "zerolinecolor": "white"
           },
           "yaxis": {
            "backgroundcolor": "#E5ECF6",
            "gridcolor": "white",
            "gridwidth": 2,
            "linecolor": "white",
            "showbackground": true,
            "ticks": "",
            "zerolinecolor": "white"
           },
           "zaxis": {
            "backgroundcolor": "#E5ECF6",
            "gridcolor": "white",
            "gridwidth": 2,
            "linecolor": "white",
            "showbackground": true,
            "ticks": "",
            "zerolinecolor": "white"
           }
          },
          "shapedefaults": {
           "line": {
            "color": "#2a3f5f"
           }
          },
          "ternary": {
           "aaxis": {
            "gridcolor": "white",
            "linecolor": "white",
            "ticks": ""
           },
           "baxis": {
            "gridcolor": "white",
            "linecolor": "white",
            "ticks": ""
           },
           "bgcolor": "#E5ECF6",
           "caxis": {
            "gridcolor": "white",
            "linecolor": "white",
            "ticks": ""
           }
          },
          "title": {
           "x": 0.05
          },
          "xaxis": {
           "automargin": true,
           "gridcolor": "white",
           "linecolor": "white",
           "ticks": "",
           "title": {
            "standoff": 15
           },
           "zerolinecolor": "white",
           "zerolinewidth": 2
          },
          "yaxis": {
           "automargin": true,
           "gridcolor": "white",
           "linecolor": "white",
           "ticks": "",
           "title": {
            "standoff": 15
           },
           "zerolinecolor": "white",
           "zerolinewidth": 2
          }
         }
        },
        "title": {
         "font": {
          "size": 16
         },
         "text": "<br>Network graph made with Python"
        },
        "xaxis": {
         "showgrid": false,
         "showticklabels": false,
         "zeroline": false
        },
        "yaxis": {
         "showgrid": false,
         "showticklabels": false,
         "zeroline": false
        }
       }
      }
     },
     "metadata": {},
     "output_type": "display_data"
    }
   ],
   "source": [
    "PyARMViz.metadata_scatter_plot(rules)\n",
    "PyARMViz.adjacency_graph_plotly(rules)"
   ]
  }
 ],
 "metadata": {
  "kernelspec": {
   "display_name": "Python 3",
   "language": "python",
   "name": "python3"
  },
  "language_info": {
   "codemirror_mode": {
    "name": "ipython",
    "version": 3
   },
   "file_extension": ".py",
   "mimetype": "text/x-python",
   "name": "python",
   "nbconvert_exporter": "python",
   "pygments_lexer": "ipython3",
   "version": "3.11.3"
  }
 },
 "nbformat": 4,
 "nbformat_minor": 2
}
