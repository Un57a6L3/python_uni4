{
 "cells": [
  {
   "cell_type": "code",
   "execution_count": 1,
   "metadata": {},
   "outputs": [],
   "source": [
    "import pandas as pd\n",
    "import numpy as np\n",
    "import matplotlib.pyplot as plt\n",
    "from sklearn import preprocessing\n",
    "from sklearn.model_selection import train_test_split\n",
    "from sklearn.linear_model import LogisticRegression\n",
    "from sklearn.metrics import (\n",
    "  confusion_matrix,\n",
    "  ConfusionMatrixDisplay,\n",
    "  classification_report,\n",
    ")\n",
    "from sklearn.svm import SVC\n",
    "from sklearn.model_selection import GridSearchCV\n",
    "from sklearn.neighbors import KNeighborsClassifier"
   ]
  },
  {
   "cell_type": "markdown",
   "metadata": {},
   "source": [
    "1. Найти данные для классификации. Данные в группе повторяться не\n",
    "   должны. Предобработать данные, если это необходимо.\n"
   ]
  },
  {
   "cell_type": "code",
   "execution_count": 2,
   "metadata": {},
   "outputs": [
    {
     "name": "stdout",
     "output_type": "stream",
     "text": [
      "region                          0\n",
      "happiness_score                 0\n",
      "gdp_per_capita                  0\n",
      "social_support                  0\n",
      "healthy_life_expectancy         0\n",
      "freedom_to_make_life_choices    0\n",
      "generosity                      0\n",
      "perceptions_of_corruption       0\n",
      "dtype: int64\n"
     ]
    },
    {
     "data": {
      "text/html": [
       "<div>\n",
       "<style scoped>\n",
       "    .dataframe tbody tr th:only-of-type {\n",
       "        vertical-align: middle;\n",
       "    }\n",
       "\n",
       "    .dataframe tbody tr th {\n",
       "        vertical-align: top;\n",
       "    }\n",
       "\n",
       "    .dataframe thead th {\n",
       "        text-align: right;\n",
       "    }\n",
       "</style>\n",
       "<table border=\"1\" class=\"dataframe\">\n",
       "  <thead>\n",
       "    <tr style=\"text-align: right;\">\n",
       "      <th></th>\n",
       "      <th>region</th>\n",
       "      <th>happiness_score</th>\n",
       "      <th>gdp_per_capita</th>\n",
       "      <th>social_support</th>\n",
       "      <th>healthy_life_expectancy</th>\n",
       "      <th>freedom_to_make_life_choices</th>\n",
       "      <th>generosity</th>\n",
       "      <th>perceptions_of_corruption</th>\n",
       "    </tr>\n",
       "  </thead>\n",
       "  <tbody>\n",
       "    <tr>\n",
       "      <th>0</th>\n",
       "      <td>Western Europe</td>\n",
       "      <td>7.804</td>\n",
       "      <td>1.888</td>\n",
       "      <td>1.585</td>\n",
       "      <td>0.535</td>\n",
       "      <td>0.772</td>\n",
       "      <td>0.126</td>\n",
       "      <td>0.535</td>\n",
       "    </tr>\n",
       "    <tr>\n",
       "      <th>1</th>\n",
       "      <td>Western Europe</td>\n",
       "      <td>7.586</td>\n",
       "      <td>1.949</td>\n",
       "      <td>1.548</td>\n",
       "      <td>0.537</td>\n",
       "      <td>0.734</td>\n",
       "      <td>0.208</td>\n",
       "      <td>0.525</td>\n",
       "    </tr>\n",
       "    <tr>\n",
       "      <th>2</th>\n",
       "      <td>Western Europe</td>\n",
       "      <td>7.530</td>\n",
       "      <td>1.926</td>\n",
       "      <td>1.620</td>\n",
       "      <td>0.559</td>\n",
       "      <td>0.738</td>\n",
       "      <td>0.250</td>\n",
       "      <td>0.187</td>\n",
       "    </tr>\n",
       "    <tr>\n",
       "      <th>3</th>\n",
       "      <td>Middle East and North Africa</td>\n",
       "      <td>7.473</td>\n",
       "      <td>1.833</td>\n",
       "      <td>1.521</td>\n",
       "      <td>0.577</td>\n",
       "      <td>0.569</td>\n",
       "      <td>0.124</td>\n",
       "      <td>0.158</td>\n",
       "    </tr>\n",
       "    <tr>\n",
       "      <th>4</th>\n",
       "      <td>Western Europe</td>\n",
       "      <td>7.403</td>\n",
       "      <td>1.942</td>\n",
       "      <td>1.488</td>\n",
       "      <td>0.545</td>\n",
       "      <td>0.672</td>\n",
       "      <td>0.251</td>\n",
       "      <td>0.394</td>\n",
       "    </tr>\n",
       "  </tbody>\n",
       "</table>\n",
       "</div>"
      ],
      "text/plain": [
       "                         region  happiness_score  gdp_per_capita  \\\n",
       "0                Western Europe            7.804           1.888   \n",
       "1                Western Europe            7.586           1.949   \n",
       "2                Western Europe            7.530           1.926   \n",
       "3  Middle East and North Africa            7.473           1.833   \n",
       "4                Western Europe            7.403           1.942   \n",
       "\n",
       "   social_support  healthy_life_expectancy  freedom_to_make_life_choices  \\\n",
       "0           1.585                    0.535                         0.772   \n",
       "1           1.548                    0.537                         0.734   \n",
       "2           1.620                    0.559                         0.738   \n",
       "3           1.521                    0.577                         0.569   \n",
       "4           1.488                    0.545                         0.672   \n",
       "\n",
       "   generosity  perceptions_of_corruption  \n",
       "0       0.126                      0.535  \n",
       "1       0.208                      0.525  \n",
       "2       0.250                      0.187  \n",
       "3       0.124                      0.158  \n",
       "4       0.251                      0.394  "
      ]
     },
     "metadata": {},
     "output_type": "display_data"
    }
   ],
   "source": [
    "from sklearn import datasets\n",
    "df = pd.read_csv(\"data/WHR_2023.csv\")\n",
    "df = df.drop([\"country\"], axis=1)\n",
    "df = df.dropna(axis=0)\n",
    "\n",
    "pd.set_option(\"display.max_columns\", None)\n",
    "print(df.isna().sum())\n",
    "display(df.head())"
   ]
  },
  {
   "cell_type": "markdown",
   "metadata": {},
   "source": [
    "2. Изобразить гистограмму, которая показывает баланс классов. Сделать\n",
    "   выводы.\n"
   ]
  },
  {
   "cell_type": "code",
   "execution_count": 3,
   "metadata": {},
   "outputs": [
    {
     "name": "stdout",
     "output_type": "stream",
     "text": [
      "Кол-во классов: 3\n"
     ]
    },
    {
     "data": {
      "text/plain": [
       "<BarContainer object of 3 artists>"
      ]
     },
     "metadata": {},
     "output_type": "display_data"
    },
    {
     "data": {
      "image/png": "[encoded data removed]",
      "text/plain": [
       "<Figure size 640x480 with 1 Axes>"
      ]
     },
     "metadata": {},
     "output_type": "display_data"
    }
   ],
   "source": [
    "dataClass = 'happiness_score'\n",
    "bins = [-np.inf, 5, 6, np.inf]\n",
    "labels = ['HS<5', '5<HS<6', 'HS>6']\n",
    "df['happiness_score'] = pd.cut(df['happiness_score'], bins=bins, labels=labels)\n",
    "dataClassCount = len(df[dataClass].unique())\n",
    "print(f\"Кол-во классов: {dataClassCount}\")\n",
    "display(plt.bar(df[dataClass].unique(), df[dataClass].value_counts().values))"
   ]
  },
  {
   "cell_type": "markdown",
   "metadata": {},
   "source": [
    "3. Разбить выборку на тренировочную и тестовую. Тренировочная для\n",
    "   обучения модели, тестовая для проверки ее качества.\n"
   ]
  },
  {
   "cell_type": "code",
   "execution_count": 4,
   "metadata": {},
   "outputs": [
    {
     "name": "stdout",
     "output_type": "stream",
     "text": [
      "Train data features split size  (13, 7)\n",
      "Train target feature split size (13,)\n",
      "Test data features split size   (123, 7)\n",
      "Test target feature split size  (123,)\n",
      "\n"
     ]
    }
   ],
   "source": [
    "RNG = 0\n",
    "OutputPreviewSize = 25\n",
    "\n",
    "x = df.drop(columns=[dataClass])\n",
    "y = df[dataClass]\n",
    "\n",
    "encoder = preprocessing.LabelEncoder()\n",
    "for i in x.columns:\n",
    "    x[i] = encoder.fit_transform(x[i])\n",
    "y = encoder.fit_transform(y)\n",
    "\n",
    "x_train, x_test, y_train, y_test = train_test_split(\n",
    "    x, y, test_size=0.90, shuffle=True, random_state=RNG\n",
    ")\n",
    "print(\n",
    "    f'Train data features split size  {x_train.shape}\\n'\n",
    "    f'Train target feature split size {y_train.shape}\\n'\n",
    "    f'Test data features split size   {x_test.shape}\\n'\n",
    "    f'Test target feature split size  {y_test.shape}\\n'\n",
    ")"
   ]
  },
  {
   "cell_type": "markdown",
   "metadata": {},
   "source": [
    "4. Применить алгоритмы классификации: логистическая регрессия, SVM,\n",
    "   KNN. Построить матрицу ошибок по результатам работы моделей\n",
    "   (использовать confusion_matrix из sklearn.metrics).\n",
    "5. Сравнить результаты классификации, используя accuracy, precision,\n",
    "   recall и f1-меру (можно использовать classification_report из\n",
    "   sklearn.metrics). Сделать выводы.\n"
   ]
  },
  {
   "cell_type": "code",
   "execution_count": 5,
   "metadata": {},
   "outputs": [],
   "source": [
    "def output_results(model_predict):\n",
    "    print(\"Predicted values: \", model_predict[:OutputPreviewSize])\n",
    "    print(\"True values:      \", np.array(y_test[:OutputPreviewSize]))\n",
    "\n",
    "    cm = confusion_matrix(y_test, model_predict)\n",
    "    disp = ConfusionMatrixDisplay(confusion_matrix=cm)\n",
    "    disp.plot()\n",
    "\n",
    "    print(classification_report(model_predict, y_test, zero_division=1))"
   ]
  },
  {
   "cell_type": "code",
   "execution_count": 6,
   "metadata": {},
   "outputs": [
    {
     "name": "stdout",
     "output_type": "stream",
     "text": [
      "Predicted values: "
     ]
    },
    {
     "name": "stdout",
     "output_type": "stream",
     "text": [
      " [2 2 0 0 0 1 2 2 2 2 0 0 0 2 0 1 2 1 1 0 2 2 0 0 1]\n",
      "True values:       [2 2 2 1 2 0 2 2 2 2 0 0 0 2 2 1 0 1 1 0 0 2 0 2 0]\n",
      "              precision    recall  f1-score   support\n",
      "\n",
      "           0       0.71      0.50      0.59        48\n",
      "           1       0.69      0.84      0.76        32\n",
      "           2       0.76      0.88      0.82        43\n",
      "\n",
      "    accuracy                           0.72       123\n",
      "   macro avg       0.72      0.74      0.72       123\n",
      "weighted avg       0.72      0.72      0.71       123\n",
      "\n"
     ]
    },
    {
     "data": {
      "image/png": "[encoded data removed]",
      "text/plain": [
       "<Figure size 640x480 with 2 Axes>"
      ]
     },
     "metadata": {},
     "output_type": "display_data"
    }
   ],
   "source": [
    "LR = LogisticRegression(max_iter=5000, random_state=0)\n",
    "LR.fit(x_train, y_train)\n",
    "LR_predict = LR.predict(x_test)\n",
    "output_results(LR_predict)"
   ]
  },
  {
   "cell_type": "code",
   "execution_count": 7,
   "metadata": {},
   "outputs": [
    {
     "name": "stderr",
     "output_type": "stream",
     "text": [
      "c:\\Python311\\Lib\\site-packages\\sklearn\\model_selection\\_split.py:725: UserWarning: The least populated class in y has only 3 members, which is less than n_splits=4.\n",
      "  warnings.warn(\n"
     ]
    },
    {
     "name": "stdout",
     "output_type": "stream",
     "text": [
      "SVM best model: poly\n",
      "Predicted values:  [2 2 0 0 0 1 2 2 2 2 0 0 0 0 0 1 2 1 1 0 2 0 0 0 1]\n",
      "True values:       [2 2 2 1 2 0 2 2 2 2 0 0 0 2 2 1 0 1 1 0 0 2 0 2 0]\n",
      "              precision    recall  f1-score   support\n",
      "\n",
      "           0       0.71      0.46      0.56        52\n",
      "           1       0.74      0.83      0.78        35\n",
      "           2       0.64      0.89      0.74        36\n",
      "\n",
      "    accuracy                           0.69       123\n",
      "   macro avg       0.70      0.73      0.70       123\n",
      "weighted avg       0.70      0.69      0.68       123\n",
      "\n"
     ]
    },
    {
     "data": {
      "image/png": "[encoded data removed]",
      "text/plain": [
       "<Figure size 640x480 with 2 Axes>"
      ]
     },
     "metadata": {},
     "output_type": "display_data"
    }
   ],
   "source": [
    "# SVM (support vector machine)\n",
    "params = {\"kernel\": (\"linear\", \"rbf\", \"poly\", \"sigmoid\")}\n",
    "gridSearch_SVM = GridSearchCV(estimator=SVC(random_state=RNG), param_grid=params, cv=4)\n",
    "gridSearch_SVM.fit(x_train, y_train)\n",
    "best_SVC = gridSearch_SVM.best_estimator_\n",
    "print(f\"SVM best model: {best_SVC.kernel}\")\n",
    "SVC_predict = best_SVC.predict(x_test)\n",
    "output_results(SVC_predict)"
   ]
  },
  {
   "cell_type": "code",
   "execution_count": 8,
   "metadata": {},
   "outputs": [
    {
     "name": "stdout",
     "output_type": "stream",
     "text": [
      "KNN best model: KNeighborsClassifier(n_neighbors=3)\n",
      "Best score: 0.6875\n",
      "Predicted values:  [2 2 0 0 2 0 0 2 0 2 0 0 0 2 0 1 0 1 1 0 2 2 0 0 0]\n",
      "True values:       [2 2 2 1 2 0 2 2 2 2 0 0 0 2 2 1 0 1 1 0 0 2 0 2 0]\n",
      "              precision    recall  f1-score   support\n",
      "\n",
      "           0       0.82      0.47      0.60        59\n",
      "           1       0.69      0.90      0.78        30\n",
      "           2       0.62      0.91      0.74        34\n",
      "\n",
      "    accuracy                           0.70       123\n",
      "   macro avg       0.71      0.76      0.71       123\n",
      "weighted avg       0.74      0.70      0.68       123\n",
      "\n"
     ]
    },
    {
     "name": "stderr",
     "output_type": "stream",
     "text": [
      "c:\\Python311\\Lib\\site-packages\\sklearn\\model_selection\\_split.py:725: UserWarning: The least populated class in y has only 3 members, which is less than n_splits=4.\n",
      "  warnings.warn(\n"
     ]
    },
    {
     "data": {
      "image/png": "[encoded data removed]",
      "text/plain": [
       "<Figure size 640x480 with 2 Axes>"
      ]
     },
     "metadata": {},
     "output_type": "display_data"
    }
   ],
   "source": [
    "# KNN (K-Nearest Neighbors)\n",
    "params = {\"n_neighbors\": np.arange(3, 10)}\n",
    "gridSearch_KNN = GridSearchCV(estimator=KNeighborsClassifier(), param_grid=params, cv=4)\n",
    "gridSearch_KNN.fit(x_train.values, y_train)\n",
    "print(f\"KNN best model: {gridSearch_KNN.best_estimator_}\")\n",
    "print(\"Best score:\", gridSearch_KNN.best_score_)\n",
    "KNN_predict = gridSearch_KNN.predict(x_test.values)\n",
    "output_results(KNN_predict)"
   ]
  }
 ],
 "metadata": {
  "kernelspec": {
   "display_name": "Python 3",
   "language": "python",
   "name": "python3"
  },
  "language_info": {
   "codemirror_mode": {
    "name": "ipython",
    "version": 3
   },
   "file_extension": ".py",
   "mimetype": "text/x-python",
   "name": "python",
   "nbconvert_exporter": "python",
   "pygments_lexer": "ipython3",
   "version": "3.11.3"
  }
 },
 "nbformat": 4,
 "nbformat_minor": 2
}
