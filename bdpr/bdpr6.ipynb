{
 "cells": [
  {
   "cell_type": "code",
   "execution_count": 1,
   "metadata": {},
   "outputs": [],
   "source": [
    "import plotly.graph_objects as go\n",
    "import pandas as pd\n",
    "import numpy as np\n",
    "import matplotlib.pyplot as plt\n",
    "from sklearn.cluster import DBSCAN\n",
    "from sklearn.metrics import silhouette_score\n",
    "from sklearn.cluster import KMeans\n",
    "from sklearn.cluster import AgglomerativeClustering\n",
    "from sklearn import preprocessing"
   ]
  },
  {
   "cell_type": "markdown",
   "metadata": {},
   "source": [
    "1. Найти данные для кластеризации. Данные в группе не должны повторяться. Если признаки в данных имеют очень сильно разные масштабы, то необходимо данные предварительно нормализовать.\n"
   ]
  },
  {
   "cell_type": "code",
   "execution_count": 2,
   "metadata": {},
   "outputs": [
    {
     "data": {
      "text/html": [
       "<div>\n",
       "<style scoped>\n",
       "    .dataframe tbody tr th:only-of-type {\n",
       "        vertical-align: middle;\n",
       "    }\n",
       "\n",
       "    .dataframe tbody tr th {\n",
       "        vertical-align: top;\n",
       "    }\n",
       "\n",
       "    .dataframe thead th {\n",
       "        text-align: right;\n",
       "    }\n",
       "</style>\n",
       "<table border=\"1\" class=\"dataframe\">\n",
       "  <thead>\n",
       "    <tr style=\"text-align: right;\">\n",
       "      <th></th>\n",
       "      <th>happiness_score</th>\n",
       "      <th>gdp_per_capita</th>\n",
       "      <th>social_support</th>\n",
       "      <th>healthy_life_expectancy</th>\n",
       "      <th>freedom_to_make_life_choices</th>\n",
       "      <th>generosity</th>\n",
       "      <th>perceptions_of_corruption</th>\n",
       "    </tr>\n",
       "  </thead>\n",
       "  <tbody>\n",
       "    <tr>\n",
       "      <th>count</th>\n",
       "      <td>136.000000</td>\n",
       "      <td>136.000000</td>\n",
       "      <td>136.000000</td>\n",
       "      <td>1.360000e+02</td>\n",
       "      <td>136.000000</td>\n",
       "      <td>136.000000</td>\n",
       "      <td>136.000000</td>\n",
       "    </tr>\n",
       "    <tr>\n",
       "      <th>mean</th>\n",
       "      <td>0.004075</td>\n",
       "      <td>0.004466</td>\n",
       "      <td>-0.003443</td>\n",
       "      <td>2.089832e-16</td>\n",
       "      <td>0.006099</td>\n",
       "      <td>0.008070</td>\n",
       "      <td>0.004578</td>\n",
       "    </tr>\n",
       "    <tr>\n",
       "      <th>std</th>\n",
       "      <td>1.002554</td>\n",
       "      <td>1.002324</td>\n",
       "      <td>1.002882</td>\n",
       "      <td>1.000000e+00</td>\n",
       "      <td>1.001136</td>\n",
       "      <td>0.999209</td>\n",
       "      <td>1.002255</td>\n",
       "    </tr>\n",
       "    <tr>\n",
       "      <th>min</th>\n",
       "      <td>-3.228970</td>\n",
       "      <td>-3.249669</td>\n",
       "      <td>-3.543156</td>\n",
       "      <td>-2.336932e+00</td>\n",
       "      <td>-3.612008</td>\n",
       "      <td>-1.952237</td>\n",
       "      <td>-1.151313</td>\n",
       "    </tr>\n",
       "    <tr>\n",
       "      <th>25%</th>\n",
       "      <td>-0.734516</td>\n",
       "      <td>-0.714231</td>\n",
       "      <td>-0.602048</td>\n",
       "      <td>-7.510093e-01</td>\n",
       "      <td>-0.543473</td>\n",
       "      <td>-0.657096</td>\n",
       "      <td>-0.679812</td>\n",
       "    </tr>\n",
       "    <tr>\n",
       "      <th>50%</th>\n",
       "      <td>0.134837</td>\n",
       "      <td>0.102814</td>\n",
       "      <td>0.212331</td>\n",
       "      <td>1.488504e-01</td>\n",
       "      <td>0.117056</td>\n",
       "      <td>-0.144299</td>\n",
       "      <td>-0.267495</td>\n",
       "    </tr>\n",
       "    <tr>\n",
       "      <th>75%</th>\n",
       "      <td>0.704171</td>\n",
       "      <td>0.903114</td>\n",
       "      <td>0.750908</td>\n",
       "      <td>7.742847e-01</td>\n",
       "      <td>0.780930</td>\n",
       "      <td>0.667629</td>\n",
       "      <td>0.334211</td>\n",
       "    </tr>\n",
       "    <tr>\n",
       "      <th>max</th>\n",
       "      <td>1.986268</td>\n",
       "      <td>1.831600</td>\n",
       "      <td>1.421258</td>\n",
       "      <td>2.143220e+00</td>\n",
       "      <td>1.551826</td>\n",
       "      <td>3.596489</td>\n",
       "      <td>3.275667</td>\n",
       "    </tr>\n",
       "  </tbody>\n",
       "</table>\n",
       "</div>"
      ],
      "text/plain": [
       "       happiness_score  gdp_per_capita  social_support  \\\n",
       "count       136.000000      136.000000      136.000000   \n",
       "mean          0.004075        0.004466       -0.003443   \n",
       "std           1.002554        1.002324        1.002882   \n",
       "min          -3.228970       -3.249669       -3.543156   \n",
       "25%          -0.734516       -0.714231       -0.602048   \n",
       "50%           0.134837        0.102814        0.212331   \n",
       "75%           0.704171        0.903114        0.750908   \n",
       "max           1.986268        1.831600        1.421258   \n",
       "\n",
       "       healthy_life_expectancy  freedom_to_make_life_choices  generosity  \\\n",
       "count             1.360000e+02                    136.000000  136.000000   \n",
       "mean              2.089832e-16                      0.006099    0.008070   \n",
       "std               1.000000e+00                      1.001136    0.999209   \n",
       "min              -2.336932e+00                     -3.612008   -1.952237   \n",
       "25%              -7.510093e-01                     -0.543473   -0.657096   \n",
       "50%               1.488504e-01                      0.117056   -0.144299   \n",
       "75%               7.742847e-01                      0.780930    0.667629   \n",
       "max               2.143220e+00                      1.551826    3.596489   \n",
       "\n",
       "       perceptions_of_corruption  \n",
       "count                 136.000000  \n",
       "mean                    0.004578  \n",
       "std                     1.002255  \n",
       "min                    -1.151313  \n",
       "25%                    -0.679812  \n",
       "50%                    -0.267495  \n",
       "75%                     0.334211  \n",
       "max                     3.275667  "
      ]
     },
     "execution_count": 2,
     "metadata": {},
     "output_type": "execute_result"
    }
   ],
   "source": [
    "df = pd.read_csv(\"data/WHR_2023.csv\")\n",
    "\n",
    "df = df.drop([\"country\", \"region\"], axis=1)\n",
    "graphCols = [\"happiness_score\", \"gdp_per_capita\", \"social_support\", \"healthy_life_expectancy\",\n",
    "             \"freedom_to_make_life_choices\", \"generosity\", \"perceptions_of_corruption\"]\n",
    "df = df.apply(lambda x: (x - x.mean()) / x.std(), axis=0)\n",
    "df = df[graphCols]\n",
    "df = df.dropna(axis=0)\n",
    "df.describe()"
   ]
  },
  {
   "cell_type": "markdown",
   "metadata": {},
   "source": [
    "2. Провести кластеризацию данных с помощью алгоритма k-means. Использовать «правило локтя» и коэффициент силуэта для поиска оптимального количества кластеров.\\\n",
    "   Визуализировать кластеризованные данные с помощью t-SNE или UMAP, если необходимо. Если данные трехмерные, то можно использовать трехмерный точечный график.\n"
   ]
  },
  {
   "cell_type": "code",
   "execution_count": 3,
   "metadata": {},
   "outputs": [
    {
     "data": {
      "image/png": "[encoded data removed]",
      "text/plain": [
       "<Figure size 1000x500 with 2 Axes>"
      ]
     },
     "metadata": {},
     "output_type": "display_data"
    }
   ],
   "source": [
    "models = []\n",
    "scores1 = []\n",
    "scores2 = []\n",
    "clustersRange = (2, 10)\n",
    "scores1_derivative2 = np.diff(scores1, 2)\n",
    "for i in range(*clustersRange):\n",
    "    kmeans = KMeans(n_clusters=i, random_state=0,\n",
    "                    init=\"k-means++\", n_init=10).fit(df)\n",
    "    models.append(kmeans)\n",
    "    scores1.append(kmeans.inertia_)\n",
    "    scores2.append(silhouette_score(df, kmeans.labels_))\n",
    "\n",
    "fig, axs = plt.subplots(1, 2, figsize=(10, 5))\n",
    "axs[0].grid()\n",
    "axs[0].set_title(\"Cost function\")\n",
    "axs[0].set_xlabel(\"Cluster number\")\n",
    "axs[0].plot(np.arange(*clustersRange), scores1, marker=\"o\")\n",
    "axs[0].axvline(x=3, color='r', linestyle='--')\n",
    "axs[1].grid()\n",
    "axs[1].set_title(\"Silhouette coefficient function\")\n",
    "axs[1].set_xlabel(\"Cluster number\")\n",
    "axs[1].plot(np.arange(*clustersRange), scores2, marker=\"o\")\n",
    "plt.tight_layout()\n",
    "plt.show()"
   ]
  },
  {
   "cell_type": "code",
   "execution_count": 4,
   "metadata": {},
   "outputs": [],
   "source": [
    "Best_K = 3\n",
    "\n",
    "\n",
    "def makeFigure():\n",
    "    fig = go.Figure(data=[go.Scatter3d(\n",
    "        x=df[graphCols[0]],\n",
    "        y=df[graphCols[1]],\n",
    "        z=df[graphCols[2]],\n",
    "        mode=\"markers\",\n",
    "        marker=dict(\n",
    "            color=df[\"Cluster\"],\n",
    "            size=4,\n",
    "            colorbar=dict(\n",
    "                nticks=5,\n",
    "            )))])\n",
    "    fig.update_layout(\n",
    "        scene=dict(\n",
    "            yaxis_title=graphCols[1],\n",
    "            zaxis_title=graphCols[2],\n",
    "            xaxis_title=graphCols[0],\n",
    "        ),\n",
    "        width=750,\n",
    "        height=750,\n",
    "    )\n",
    "    fig.show()\n",
    "    df.drop(columns=[\"Cluster\"], inplace=True)"
   ]
  },
  {
   "cell_type": "code",
   "execution_count": 5,
   "metadata": {},
   "outputs": [
    {
     "data": {
      "application/vnd.plotly.v1+json": {
       "config": {
        "plotlyServerURL": "https://plot.ly"
       },
       "data": [
        {
         "marker": {
          "color": [
           2,
           2,
           2,
           0,
           2,
           2,
           2,
           2,
           2,
           2,
           2,
           2,
           2,
           2,
           0,
           2,
           2,
           0,
           2,
           0,
           2,
           0,
           0,
           0,
           2,
           2,
           0,
           0,
           0,
           0,
           2,
           0,
           0,
           0,
           0,
           0,
           0,
           0,
           0,
           0,
           0,
           0,
           0,
           0,
           0,
           0,
           0,
           0,
           0,
           0,
           0,
           0,
           0,
           0,
           0,
           0,
           0,
           0,
           0,
           0,
           0,
           0,
           0,
           0,
           0,
           0,
           0,
           0,
           0,
           0,
           0,
           0,
           0,
           0,
           0,
           0,
           0,
           1,
           0,
           0,
           0,
           2,
           0,
           0,
           0,
           1,
           0,
           1,
           1,
           0,
           1,
           0,
           1,
           1,
           1,
           1,
           1,
           1,
           1,
           1,
           1,
           1,
           1,
           1,
           0,
           1,
           1,
           1,
           1,
           1,
           0,
           1,
           1,
           1,
           1,
           1,
           1,
           1,
           1,
           1,
           1,
           0,
           1,
           1,
           1,
           1,
           1,
           1,
           1,
           1,
           1,
           1,
           1,
           1,
           1,
           1
          ],
          "colorbar": {
           "nticks": 5
          },
          "size": 4
         },
         "mode": "markers",
         "type": "scatter3d",
         "x": [
          1.986268341186112,
          1.795028317852915,
          1.7459024402994332,
          1.695899314932496,
          1.6344919679906433,
          1.6274739854830031,
          1.5572941604066013,
          1.4915005743974736,
          1.4809736006360128,
          1.3888625802232348,
          1.366054137073404,
          1.3642996414464934,
          1.2467484344435196,
          1.2028860437707674,
          1.1879728309420323,
          1.1862183353151223,
          1.157269157471106,
          1.1449876880827354,
          1.1020025452234392,
          1.073053367379423,
          0.9835740904070093,
          0.9739243644590045,
          0.9379572041073478,
          0.9204122478382476,
          0.9186577522113369,
          0.9046217871960565,
          0.8730408659116756,
          0.8370737055600189,
          0.8151425102236436,
          0.8098790233429132,
          0.802861040835273,
          0.7861933323796272,
          0.7589986501625214,
          0.7265404810646853,
          0.6967140554072137,
          0.6932050641533939,
          0.6668876297497427,
          0.6361839562788164,
          0.6317977172115413,
          0.6309204693980868,
          0.5905670699791551,
          0.5554771574409537,
          0.5353004577314883,
          0.5300369708507578,
          0.5300369708507578,
          0.5177555014623871,
          0.5168782536489319,
          0.5133692623951122,
          0.5133692623951122,
          0.510737518954747,
          0.4396804460648897,
          0.42476723323615384,
          0.4238899854226985,
          0.4159947551016037,
          0.41424025947469306,
          0.375641355682672,
          0.3607281428539361,
          0.3431831865848358,
          0.31774299999463995,
          0.2659853790007929,
          0.26335363556042773,
          0.2501949183586025,
          0.2449314314778721,
          0.24405418366441678,
          0.19580555392439025,
          0.1738743585880149,
          0.15983839357273436,
          0.14317068511708864,
          0.1265029766614429,
          0.10632627695197665,
          0.0817633381752361,
          0.0791315947348709,
          0.025619478114113962,
          0.016846999979563824,
          -0.012102177864452569,
          -0.014733921304817767,
          -0.06473704667175419,
          -0.15772531489798752,
          -0.17351577554017872,
          -0.18404274930163872,
          -0.18491999711509405,
          -0.20334220119764965,
          -0.2305368834147554,
          -0.2305368834147554,
          -0.23229137904166525,
          -0.23930936154930552,
          -0.25071358312422165,
          -0.2884352391027874,
          -0.3761600204482911,
          -0.377914516075201,
          -0.41037268517303715,
          -0.41124993298649243,
          -0.42704039362868285,
          -0.44283085427087326,
          -0.49020223619744524,
          -0.49722021870508554,
          -0.5138879271607313,
          -0.5252921487356466,
          -0.558627565646938,
          -0.5823132566102233,
          -0.6007354606927788,
          -0.7156549242553883,
          -0.7910982362125214,
          -0.7972389709067064,
          -0.8121521837354422,
          -0.820047414056537,
          -0.8639098047292892,
          -0.9112811866558604,
          -0.914790177909681,
          -0.9235626560442312,
          -0.9630388076497075,
          -0.9718112857842577,
          -1.0025149592551839,
          -1.0060239505090045,
          -1.0226916589646502,
          -1.0244461545915602,
          -1.1033984578025129,
          -1.106030201242878,
          -1.1770872741327354,
          -1.2016502129094766,
          -1.2305993907534931,
          -1.2455126035822282,
          -1.270952790172424,
          -1.313937933031721,
          -1.3192014199124513,
          -1.3341146327411864,
          -1.3665728018390224,
          -1.6192201721140722,
          -1.749930096318872,
          -1.7937924869916235,
          -1.8464273557989255,
          -2.046439857266673,
          -2.049071600707038,
          -2.10696995639507,
          -2.7613968252325245,
          -3.2289699098040567
         ],
         "y": [
          1.1109839911832895,
          1.251873734795769,
          1.1987513724500798,
          0.9839522551392512,
          1.2357060592992546,
          1.187203032809713,
          1.3558087915590729,
          1.4204794935451284,
          1.8316003847421989,
          1.0047392664919124,
          1.2010610403781534,
          1.1363903383920975,
          1.0948163156867758,
          1.7207363241946745,
          1.3234734405660449,
          1.1825836969535661,
          1.154867681816685,
          0.960855575858517,
          1.0393842854130135,
          0.9262105569374158,
          1.0370746174849403,
          0.9423782324339296,
          0.4157739448331885,
          0.7368177868353948,
          1.7576910110438493,
          1.4043118180486152,
          1.1156033270394363,
          0.48506398267539136,
          0.7483661264757622,
          1.0486229571253072,
          0.9031138776566815,
          0.9031138776566815,
          0.9816425872111781,
          -0.07618532384645078,
          0.5497346846614474,
          0.330316231494472,
          1.0024295985638387,
          0.7091017716985136,
          0.8315141718864051,
          -0.6882473247859089,
          0.7622241340442028,
          1.0994356515429227,
          -0.27712643358883926,
          0.5936183752948422,
          0.33493556735061886,
          0.9631652437865906,
          0.9654749117146638,
          0.7391274547634684,
          0.10858811039942293,
          -0.29791344494149985,
          0.8014884888214507,
          0.4227029486174091,
          -0.6743893172174683,
          -0.41570650927324443,
          0.5959280432229159,
          0.8107271605337444,
          1.0301456137007199,
          0.695243764130073,
          0.4203932806893354,
          0.24947785401190176,
          -0.06463698420608391,
          -0.7991113853334334,
          0.041607740485293775,
          0.23792951437153487,
          -0.13392702204828674,
          0.0485367442695138,
          0.3002905484295172,
          -0.23555241088351755,
          -0.3856808262082901,
          0.6305730621440171,
          0.13861379346437774,
          0.1108977783274966,
          0.297980880501444,
          -0.1477850296167273,
          -0.039230636997276455,
          -0.39030016206443696,
          0.526638005380713,
          -0.9885041554354542,
          0.13630412553630405,
          -1.0046718309319682,
          -0.12468835033599303,
          1.2564930706519157,
          0.09703977075905604,
          -0.05308864456571702,
          0.02313039706070635,
          -1.1224648952637128,
          0.21021349923465374,
          -3.249669057019338,
          -0.40415816963287754,
          0.16171047274511202,
          -1.3003093257253666,
          -0.11314001069562563,
          -0.72289234370701,
          0.07163342355024807,
          -0.7898727136211396,
          -1.0208395064284823,
          -1.9331583380174855,
          -0.29098444115727984,
          -0.39491949792058384,
          0.1339944576082309,
          -1.0716522008460976,
          -0.7113440040666431,
          -1.475844088258947,
          -0.2725070977326924,
          0.7091017716985136,
          -0.7067246682104963,
          -0.7529180267719648,
          -1.953945349370146,
          -0.17088170889746157,
          -0.8222080646141677,
          0.034678736701073236,
          -1.4365797334816988,
          -1.8130556057576672,
          -0.8822594307440768,
          -1.1155358914794924,
          -0.8660917552475625,
          -0.6328152945121466,
          -1.4920117637554609,
          -1.487392427899314,
          -0.06925632006223076,
          -1.4712247524028002,
          -0.26557809394847187,
          -1.4181023900571113,
          -1.7991975981892265,
          -0.5727639283822374,
          -1.7899589264769329,
          -1.1386325707602267,
          -1.3187866691499541,
          -1.1386325707602267,
          -1.7784105868365658,
          0.14785246517667144,
          -2.023235387212349,
          -1.4989407675396813,
          -1.7021915452101426,
          0.02313039706070635,
          -1.7599332434119783
         ],
         "z": [
          1.3140017045108203,
          1.2006169394256143,
          1.421257563375205,
          1.1178767054445176,
          1.0167497528009557,
          1.0841677212299972,
          1.1178767054445176,
          0.9401384250406815,
          0.6153063953371176,
          1.1883591269839704,
          0.6919177230973919,
          1.0443298307946547,
          1.0044919403593118,
          0.8236892068450643,
          0.9309450657094482,
          0.7501423321952008,
          0.8972360814949277,
          1.1883591269839704,
          0.6428864733308168,
          1.0872321743404079,
          0.8482048317283521,
          1.1730368614319153,
          0.5632106924601313,
          0.3793435058354726,
          0.6061130360058851,
          0.2046696785420471,
          0.6612731919932827,
          0.8849782690532838,
          1.1883591269839704,
          0.6551442857724608,
          1.1331989709965729,
          1.025943112132189,
          0.6398220202204055,
          0.3456345216209515,
          0.6980466293182138,
          0.0391892105798542,
          0.9554606905927361,
          0.7532067853056114,
          0.973847409255202,
          0.4161169431604043,
          1.0688454556779419,
          0.3456345216209515,
          0.09741381967766247,
          1.025943112132189,
          0.572404051791364,
          0.20773413165245774,
          0.7348200666431455,
          0.9156228001573936,
          0.2874099125231432,
          -0.3438674282215179,
          1.1117477992236957,
          0.7103044417598576,
          -0.2580627411300105,
          0.5846618642330078,
          -0.0037131329658995093,
          0.612241942226707,
          0.09741381967766247,
          0.2782165531919106,
          0.6919177230973919,
          0.5754685049017753,
          1.0351364714634215,
          0.8665915503908179,
          0.4467614742645141,
          0.28434545941273254,
          0.17096069432752597,
          0.8298181130658863,
          0.7011110824286251,
          0.5295017082456103,
          0.09434936656725183,
          0.6949821762078031,
          0.6275642077787615,
          0.1740251474379373,
          0.21692749098369102,
          0.051447023021498124,
          -0.009842039186721468,
          -0.1477424291552152,
          0.9217517063782156,
          -0.3959631310985049,
          -0.06806664828453042,
          0.2812810063023212,
          0.4345036618228702,
          0.13725171011300555,
          -0.628861567489739,
          0.0391892105798542,
          0.8328825661762969,
          -1.5052951570672781,
          0.04531811680067616,
          0.3088610842960197,
          -0.9291779723100146,
          -0.6411193799313829,
          -1.1651408618116597,
          0.6061130360058851,
          -1.7535158590105675,
          -0.4143498497609708,
          -0.45725219330672445,
          -0.874017816322617,
          -0.8311154727768633,
          -0.622732661268917,
          -1.903674061420705,
          -0.1661291478176811,
          -1.3152990642217977,
          -1.2019142991365914,
          -1.0486916436160427,
          -0.09258227316781825,
          -0.025164304738776705,
          -1.2264299240198793,
          -1.529810781950566,
          -1.6186799221524844,
          -0.5369279741774096,
          -0.8433732852185072,
          0.20773413165245774,
          -0.03742211718042062,
          -0.5951525832752182,
          -0.4051564904297375,
          -2.8015588227711214,
          -0.0956467262782289,
          -1.9710920298497465,
          -1.661582265698238,
          -1.5910998441587856,
          -0.5645080521711084,
          -1.5757775786067305,
          -0.5399924272878206,
          -0.12935571049274933,
          -1.5696486723859087,
          -1.4777150790735794,
          -1.1559475024804267,
          -0.8157932072248084,
          -1.131431877597139,
          -2.5410803083861886,
          -2.07528343560372,
          -0.35306078755275117,
          -1.1406252369283718,
          -0.8433732852185072,
          -1.8883517958686502,
          -2.084476794934953,
          -3.5431564754905778
         ]
        }
       ],
       "layout": {
        "height": 750,
        "scene": {
         "xaxis": {
          "title": {
           "text": "happiness_score"
          }
         },
         "yaxis": {
          "title": {
           "text": "gdp_per_capita"
          }
         },
         "zaxis": {
          "title": {
           "text": "social_support"
          }
         }
        },
        "template": {
         "data": {
          "bar": [
           {
            "error_x": {
             "color": "#2a3f5f"
            },
            "error_y": {
             "color": "#2a3f5f"
            },
            "marker": {
             "line": {
              "color": "#E5ECF6",
              "width": 0.5
             },
             "pattern": {
              "fillmode": "overlay",
              "size": 10,
              "solidity": 0.2
             }
            },
            "type": "bar"
           }
          ],
          "barpolar": [
           {
            "marker": {
             "line": {
              "color": "#E5ECF6",
              "width": 0.5
             },
             "pattern": {
              "fillmode": "overlay",
              "size": 10,
              "solidity": 0.2
             }
            },
            "type": "barpolar"
           }
          ],
          "carpet": [
           {
            "aaxis": {
             "endlinecolor": "#2a3f5f",
             "gridcolor": "white",
             "linecolor": "white",
             "minorgridcolor": "white",
             "startlinecolor": "#2a3f5f"
            },
            "baxis": {
             "endlinecolor": "#2a3f5f",
             "gridcolor": "white",
             "linecolor": "white",
             "minorgridcolor": "white",
             "startlinecolor": "#2a3f5f"
            },
            "type": "carpet"
           }
          ],
          "choropleth": [
           {
            "colorbar": {
             "outlinewidth": 0,
             "ticks": ""
            },
            "type": "choropleth"
           }
          ],
          "contour": [
           {
            "colorbar": {
             "outlinewidth": 0,
             "ticks": ""
            },
            "colorscale": [
             [
              0,
              "#0d0887"
             ],
             [
              0.1111111111111111,
              "#46039f"
             ],
             [
              0.2222222222222222,
              "#7201a8"
             ],
             [
              0.3333333333333333,
              "#9c179e"
             ],
             [
              0.4444444444444444,
              "#bd3786"
             ],
             [
              0.5555555555555556,
              "#d8576b"
             ],
             [
              0.6666666666666666,
              "#ed7953"
             ],
             [
              0.7777777777777778,
              "#fb9f3a"
             ],
             [
              0.8888888888888888,
              "#fdca26"
             ],
             [
              1,
              "#f0f921"
             ]
            ],
            "type": "contour"
           }
          ],
          "contourcarpet": [
           {
            "colorbar": {
             "outlinewidth": 0,
             "ticks": ""
            },
            "type": "contourcarpet"
           }
          ],
          "heatmap": [
           {
            "colorbar": {
             "outlinewidth": 0,
             "ticks": ""
            },
            "colorscale": [
             [
              0,
              "#0d0887"
             ],
             [
              0.1111111111111111,
              "#46039f"
             ],
             [
              0.2222222222222222,
              "#7201a8"
             ],
             [
              0.3333333333333333,
              "#9c179e"
             ],
             [
              0.4444444444444444,
              "#bd3786"
             ],
             [
              0.5555555555555556,
              "#d8576b"
             ],
             [
              0.6666666666666666,
              "#ed7953"
             ],
             [
              0.7777777777777778,
              "#fb9f3a"
             ],
             [
              0.8888888888888888,
              "#fdca26"
             ],
             [
              1,
              "#f0f921"
             ]
            ],
            "type": "heatmap"
           }
          ],
          "heatmapgl": [
           {
            "colorbar": {
             "outlinewidth": 0,
             "ticks": ""
            },
            "colorscale": [
             [
              0,
              "#0d0887"
             ],
             [
              0.1111111111111111,
              "#46039f"
             ],
             [
              0.2222222222222222,
              "#7201a8"
             ],
             [
              0.3333333333333333,
              "#9c179e"
             ],
             [
              0.4444444444444444,
              "#bd3786"
             ],
             [
              0.5555555555555556,
              "#d8576b"
             ],
             [
              0.6666666666666666,
              "#ed7953"
             ],
             [
              0.7777777777777778,
              "#fb9f3a"
             ],
             [
              0.8888888888888888,
              "#fdca26"
             ],
             [
              1,
              "#f0f921"
             ]
            ],
            "type": "heatmapgl"
           }
          ],
          "histogram": [
           {
            "marker": {
             "pattern": {
              "fillmode": "overlay",
              "size": 10,
              "solidity": 0.2
             }
            },
            "type": "histogram"
           }
          ],
          "histogram2d": [
           {
            "colorbar": {
             "outlinewidth": 0,
             "ticks": ""
            },
            "colorscale": [
             [
              0,
              "#0d0887"
             ],
             [
              0.1111111111111111,
              "#46039f"
             ],
             [
              0.2222222222222222,
              "#7201a8"
             ],
             [
              0.3333333333333333,
              "#9c179e"
             ],
             [
              0.4444444444444444,
              "#bd3786"
             ],
             [
              0.5555555555555556,
              "#d8576b"
             ],
             [
              0.6666666666666666,
              "#ed7953"
             ],
             [
              0.7777777777777778,
              "#fb9f3a"
             ],
             [
              0.8888888888888888,
              "#fdca26"
             ],
             [
              1,
              "#f0f921"
             ]
            ],
            "type": "histogram2d"
           }
          ],
          "histogram2dcontour": [
           {
            "colorbar": {
             "outlinewidth": 0,
             "ticks": ""
            },
            "colorscale": [
             [
              0,
              "#0d0887"
             ],
             [
              0.1111111111111111,
              "#46039f"
             ],
             [
              0.2222222222222222,
              "#7201a8"
             ],
             [
              0.3333333333333333,
              "#9c179e"
             ],
             [
              0.4444444444444444,
              "#bd3786"
             ],
             [
              0.5555555555555556,
              "#d8576b"
             ],
             [
              0.6666666666666666,
              "#ed7953"
             ],
             [
              0.7777777777777778,
              "#fb9f3a"
             ],
             [
              0.8888888888888888,
              "#fdca26"
             ],
             [
              1,
              "#f0f921"
             ]
            ],
            "type": "histogram2dcontour"
           }
          ],
          "mesh3d": [
           {
            "colorbar": {
             "outlinewidth": 0,
             "ticks": ""
            },
            "type": "mesh3d"
           }
          ],
          "parcoords": [
           {
            "line": {
             "colorbar": {
              "outlinewidth": 0,
              "ticks": ""
             }
            },
            "type": "parcoords"
           }
          ],
          "pie": [
           {
            "automargin": true,
            "type": "pie"
           }
          ],
          "scatter": [
           {
            "fillpattern": {
             "fillmode": "overlay",
             "size": 10,
             "solidity": 0.2
            },
            "type": "scatter"
           }
          ],
          "scatter3d": [
           {
            "line": {
             "colorbar": {
              "outlinewidth": 0,
              "ticks": ""
             }
            },
            "marker": {
             "colorbar": {
              "outlinewidth": 0,
              "ticks": ""
             }
            },
            "type": "scatter3d"
           }
          ],
          "scattercarpet": [
           {
            "marker": {
             "colorbar": {
              "outlinewidth": 0,
              "ticks": ""
             }
            },
            "type": "scattercarpet"
           }
          ],
          "scattergeo": [
           {
            "marker": {
             "colorbar": {
              "outlinewidth": 0,
              "ticks": ""
             }
            },
            "type": "scattergeo"
           }
          ],
          "scattergl": [
           {
            "marker": {
             "colorbar": {
              "outlinewidth": 0,
              "ticks": ""
             }
            },
            "type": "scattergl"
           }
          ],
          "scattermapbox": [
           {
            "marker": {
             "colorbar": {
              "outlinewidth": 0,
              "ticks": ""
             }
            },
            "type": "scattermapbox"
           }
          ],
          "scatterpolar": [
           {
            "marker": {
             "colorbar": {
              "outlinewidth": 0,
              "ticks": ""
             }
            },
            "type": "scatterpolar"
           }
          ],
          "scatterpolargl": [
           {
            "marker": {
             "colorbar": {
              "outlinewidth": 0,
              "ticks": ""
             }
            },
            "type": "scatterpolargl"
           }
          ],
          "scatterternary": [
           {
            "marker": {
             "colorbar": {
              "outlinewidth": 0,
              "ticks": ""
             }
            },
            "type": "scatterternary"
           }
          ],
          "surface": [
           {
            "colorbar": {
             "outlinewidth": 0,
             "ticks": ""
            },
            "colorscale": [
             [
              0,
              "#0d0887"
             ],
             [
              0.1111111111111111,
              "#46039f"
             ],
             [
              0.2222222222222222,
              "#7201a8"
             ],
             [
              0.3333333333333333,
              "#9c179e"
             ],
             [
              0.4444444444444444,
              "#bd3786"
             ],
             [
              0.5555555555555556,
              "#d8576b"
             ],
             [
              0.6666666666666666,
              "#ed7953"
             ],
             [
              0.7777777777777778,
              "#fb9f3a"
             ],
             [
              0.8888888888888888,
              "#fdca26"
             ],
             [
              1,
              "#f0f921"
             ]
            ],
            "type": "surface"
           }
          ],
          "table": [
           {
            "cells": {
             "fill": {
              "color": "#EBF0F8"
             },
             "line": {
              "color": "white"
             }
            },
            "header": {
             "fill": {
              "color": "#C8D4E3"
             },
             "line": {
              "color": "white"
             }
            },
            "type": "table"
           }
          ]
         },
         "layout": {
          "annotationdefaults": {
           "arrowcolor": "#2a3f5f",
           "arrowhead": 0,
           "arrowwidth": 1
          },
          "autotypenumbers": "strict",
          "coloraxis": {
           "colorbar": {
            "outlinewidth": 0,
            "ticks": ""
           }
          },
          "colorscale": {
           "diverging": [
            [
             0,
             "#8e0152"
            ],
            [
             0.1,
             "#c51b7d"
            ],
            [
             0.2,
             "#de77ae"
            ],
            [
             0.3,
             "#f1b6da"
            ],
            [
             0.4,
             "#fde0ef"
            ],
            [
             0.5,
             "#f7f7f7"
            ],
            [
             0.6,
             "#e6f5d0"
            ],
            [
             0.7,
             "#b8e186"
            ],
            [
             0.8,
             "#7fbc41"
            ],
            [
             0.9,
             "#4d9221"
            ],
            [
             1,
             "#276419"
            ]
           ],
           "sequential": [
            [
             0,
             "#0d0887"
            ],
            [
             0.1111111111111111,
             "#46039f"
            ],
            [
             0.2222222222222222,
             "#7201a8"
            ],
            [
             0.3333333333333333,
             "#9c179e"
            ],
            [
             0.4444444444444444,
             "#bd3786"
            ],
            [
             0.5555555555555556,
             "#d8576b"
            ],
            [
             0.6666666666666666,
             "#ed7953"
            ],
            [
             0.7777777777777778,
             "#fb9f3a"
            ],
            [
             0.8888888888888888,
             "#fdca26"
            ],
            [
             1,
             "#f0f921"
            ]
           ],
           "sequentialminus": [
            [
             0,
             "#0d0887"
            ],
            [
             0.1111111111111111,
             "#46039f"
            ],
            [
             0.2222222222222222,
             "#7201a8"
            ],
            [
             0.3333333333333333,
             "#9c179e"
            ],
            [
             0.4444444444444444,
             "#bd3786"
            ],
            [
             0.5555555555555556,
             "#d8576b"
            ],
            [
             0.6666666666666666,
             "#ed7953"
            ],
            [
             0.7777777777777778,
             "#fb9f3a"
            ],
            [
             0.8888888888888888,
             "#fdca26"
            ],
            [
             1,
             "#f0f921"
            ]
           ]
          },
          "colorway": [
           "#636efa",
           "#EF553B",
           "#00cc96",
           "#ab63fa",
           "#FFA15A",
           "#19d3f3",
           "#FF6692",
           "#B6E880",
           "#FF97FF",
           "#FECB52"
          ],
          "font": {
           "color": "#2a3f5f"
          },
          "geo": {
           "bgcolor": "white",
           "lakecolor": "white",
           "landcolor": "#E5ECF6",
           "showlakes": true,
           "showland": true,
           "subunitcolor": "white"
          },
          "hoverlabel": {
           "align": "left"
          },
          "hovermode": "closest",
          "mapbox": {
           "style": "light"
          },
          "paper_bgcolor": "white",
          "plot_bgcolor": "#E5ECF6",
          "polar": {
           "angularaxis": {
            "gridcolor": "white",
            "linecolor": "white",
            "ticks": ""
           },
           "bgcolor": "#E5ECF6",
           "radialaxis": {
            "gridcolor": "white",
            "linecolor": "white",
            "ticks": ""
           }
          },
          "scene": {
           "xaxis": {
            "backgroundcolor": "#E5ECF6",
            "gridcolor": "white",
            "gridwidth": 2,
            "linecolor": "white",
            "showbackground": true,
            "ticks": "",
            "zerolinecolor": "white"
           },
           "yaxis": {
            "backgroundcolor": "#E5ECF6",
            "gridcolor": "white",
            "gridwidth": 2,
            "linecolor": "white",
            "showbackground": true,
            "ticks": "",
            "zerolinecolor": "white"
           },
           "zaxis": {
            "backgroundcolor": "#E5ECF6",
            "gridcolor": "white",
            "gridwidth": 2,
            "linecolor": "white",
            "showbackground": true,
            "ticks": "",
            "zerolinecolor": "white"
           }
          },
          "shapedefaults": {
           "line": {
            "color": "#2a3f5f"
           }
          },
          "ternary": {
           "aaxis": {
            "gridcolor": "white",
            "linecolor": "white",
            "ticks": ""
           },
           "baxis": {
            "gridcolor": "white",
            "linecolor": "white",
            "ticks": ""
           },
           "bgcolor": "#E5ECF6",
           "caxis": {
            "gridcolor": "white",
            "linecolor": "white",
            "ticks": ""
           }
          },
          "title": {
           "x": 0.05
          },
          "xaxis": {
           "automargin": true,
           "gridcolor": "white",
           "linecolor": "white",
           "ticks": "",
           "title": {
            "standoff": 15
           },
           "zerolinecolor": "white",
           "zerolinewidth": 2
          },
          "yaxis": {
           "automargin": true,
           "gridcolor": "white",
           "linecolor": "white",
           "ticks": "",
           "title": {
            "standoff": 15
           },
           "zerolinecolor": "white",
           "zerolinewidth": 2
          }
         }
        },
        "width": 750
       }
      }
     },
     "metadata": {},
     "output_type": "display_data"
    }
   ],
   "source": [
    "kmeans = KMeans(n_clusters=Best_K, random_state=0, n_init=10).fit(df)\n",
    "df[\"Cluster\"] = kmeans.labels_\n",
    "df[\"Cluster\"].value_counts()\n",
    "makeFigure()"
   ]
  },
  {
   "cell_type": "markdown",
   "metadata": {},
   "source": [
    "3. Провести кластеризацию данных с помощью алгоритма иерархической кластеризации.\n"
   ]
  },
  {
   "cell_type": "code",
   "execution_count": 6,
   "metadata": {},
   "outputs": [
    {
     "data": {
      "application/vnd.plotly.v1+json": {
       "config": {
        "plotlyServerURL": "https://plot.ly"
       },
       "data": [
        {
         "marker": {
          "color": [
           2,
           2,
           2,
           1,
           2,
           2,
           2,
           2,
           2,
           2,
           2,
           2,
           2,
           2,
           1,
           2,
           1,
           1,
           2,
           1,
           1,
           1,
           1,
           1,
           2,
           1,
           1,
           1,
           1,
           1,
           2,
           1,
           1,
           1,
           1,
           1,
           1,
           1,
           1,
           1,
           1,
           1,
           1,
           1,
           1,
           1,
           1,
           1,
           1,
           1,
           1,
           1,
           1,
           1,
           1,
           1,
           1,
           0,
           1,
           1,
           1,
           1,
           1,
           1,
           1,
           1,
           1,
           1,
           1,
           1,
           1,
           1,
           1,
           1,
           1,
           1,
           1,
           1,
           0,
           1,
           0,
           1,
           1,
           1,
           0,
           0,
           1,
           0,
           0,
           0,
           0,
           1,
           0,
           0,
           0,
           0,
           0,
           0,
           0,
           0,
           0,
           0,
           0,
           0,
           0,
           0,
           0,
           0,
           0,
           0,
           1,
           0,
           0,
           0,
           0,
           1,
           0,
           0,
           0,
           0,
           0,
           0,
           0,
           0,
           0,
           0,
           0,
           0,
           0,
           0,
           0,
           0,
           0,
           0,
           0,
           0
          ],
          "colorbar": {
           "nticks": 5
          },
          "size": 4
         },
         "mode": "markers",
         "type": "scatter3d",
         "x": [
          1.986268341186112,
          1.795028317852915,
          1.7459024402994332,
          1.695899314932496,
          1.6344919679906433,
          1.6274739854830031,
          1.5572941604066013,
          1.4915005743974736,
          1.4809736006360128,
          1.3888625802232348,
          1.366054137073404,
          1.3642996414464934,
          1.2467484344435196,
          1.2028860437707674,
          1.1879728309420323,
          1.1862183353151223,
          1.157269157471106,
          1.1449876880827354,
          1.1020025452234392,
          1.073053367379423,
          0.9835740904070093,
          0.9739243644590045,
          0.9379572041073478,
          0.9204122478382476,
          0.9186577522113369,
          0.9046217871960565,
          0.8730408659116756,
          0.8370737055600189,
          0.8151425102236436,
          0.8098790233429132,
          0.802861040835273,
          0.7861933323796272,
          0.7589986501625214,
          0.7265404810646853,
          0.6967140554072137,
          0.6932050641533939,
          0.6668876297497427,
          0.6361839562788164,
          0.6317977172115413,
          0.6309204693980868,
          0.5905670699791551,
          0.5554771574409537,
          0.5353004577314883,
          0.5300369708507578,
          0.5300369708507578,
          0.5177555014623871,
          0.5168782536489319,
          0.5133692623951122,
          0.5133692623951122,
          0.510737518954747,
          0.4396804460648897,
          0.42476723323615384,
          0.4238899854226985,
          0.4159947551016037,
          0.41424025947469306,
          0.375641355682672,
          0.3607281428539361,
          0.3431831865848358,
          0.31774299999463995,
          0.2659853790007929,
          0.26335363556042773,
          0.2501949183586025,
          0.2449314314778721,
          0.24405418366441678,
          0.19580555392439025,
          0.1738743585880149,
          0.15983839357273436,
          0.14317068511708864,
          0.1265029766614429,
          0.10632627695197665,
          0.0817633381752361,
          0.0791315947348709,
          0.025619478114113962,
          0.016846999979563824,
          -0.012102177864452569,
          -0.014733921304817767,
          -0.06473704667175419,
          -0.15772531489798752,
          -0.17351577554017872,
          -0.18404274930163872,
          -0.18491999711509405,
          -0.20334220119764965,
          -0.2305368834147554,
          -0.2305368834147554,
          -0.23229137904166525,
          -0.23930936154930552,
          -0.25071358312422165,
          -0.2884352391027874,
          -0.3761600204482911,
          -0.377914516075201,
          -0.41037268517303715,
          -0.41124993298649243,
          -0.42704039362868285,
          -0.44283085427087326,
          -0.49020223619744524,
          -0.49722021870508554,
          -0.5138879271607313,
          -0.5252921487356466,
          -0.558627565646938,
          -0.5823132566102233,
          -0.6007354606927788,
          -0.7156549242553883,
          -0.7910982362125214,
          -0.7972389709067064,
          -0.8121521837354422,
          -0.820047414056537,
          -0.8639098047292892,
          -0.9112811866558604,
          -0.914790177909681,
          -0.9235626560442312,
          -0.9630388076497075,
          -0.9718112857842577,
          -1.0025149592551839,
          -1.0060239505090045,
          -1.0226916589646502,
          -1.0244461545915602,
          -1.1033984578025129,
          -1.106030201242878,
          -1.1770872741327354,
          -1.2016502129094766,
          -1.2305993907534931,
          -1.2455126035822282,
          -1.270952790172424,
          -1.313937933031721,
          -1.3192014199124513,
          -1.3341146327411864,
          -1.3665728018390224,
          -1.6192201721140722,
          -1.749930096318872,
          -1.7937924869916235,
          -1.8464273557989255,
          -2.046439857266673,
          -2.049071600707038,
          -2.10696995639507,
          -2.7613968252325245,
          -3.2289699098040567
         ],
         "y": [
          1.1109839911832895,
          1.251873734795769,
          1.1987513724500798,
          0.9839522551392512,
          1.2357060592992546,
          1.187203032809713,
          1.3558087915590729,
          1.4204794935451284,
          1.8316003847421989,
          1.0047392664919124,
          1.2010610403781534,
          1.1363903383920975,
          1.0948163156867758,
          1.7207363241946745,
          1.3234734405660449,
          1.1825836969535661,
          1.154867681816685,
          0.960855575858517,
          1.0393842854130135,
          0.9262105569374158,
          1.0370746174849403,
          0.9423782324339296,
          0.4157739448331885,
          0.7368177868353948,
          1.7576910110438493,
          1.4043118180486152,
          1.1156033270394363,
          0.48506398267539136,
          0.7483661264757622,
          1.0486229571253072,
          0.9031138776566815,
          0.9031138776566815,
          0.9816425872111781,
          -0.07618532384645078,
          0.5497346846614474,
          0.330316231494472,
          1.0024295985638387,
          0.7091017716985136,
          0.8315141718864051,
          -0.6882473247859089,
          0.7622241340442028,
          1.0994356515429227,
          -0.27712643358883926,
          0.5936183752948422,
          0.33493556735061886,
          0.9631652437865906,
          0.9654749117146638,
          0.7391274547634684,
          0.10858811039942293,
          -0.29791344494149985,
          0.8014884888214507,
          0.4227029486174091,
          -0.6743893172174683,
          -0.41570650927324443,
          0.5959280432229159,
          0.8107271605337444,
          1.0301456137007199,
          0.695243764130073,
          0.4203932806893354,
          0.24947785401190176,
          -0.06463698420608391,
          -0.7991113853334334,
          0.041607740485293775,
          0.23792951437153487,
          -0.13392702204828674,
          0.0485367442695138,
          0.3002905484295172,
          -0.23555241088351755,
          -0.3856808262082901,
          0.6305730621440171,
          0.13861379346437774,
          0.1108977783274966,
          0.297980880501444,
          -0.1477850296167273,
          -0.039230636997276455,
          -0.39030016206443696,
          0.526638005380713,
          -0.9885041554354542,
          0.13630412553630405,
          -1.0046718309319682,
          -0.12468835033599303,
          1.2564930706519157,
          0.09703977075905604,
          -0.05308864456571702,
          0.02313039706070635,
          -1.1224648952637128,
          0.21021349923465374,
          -3.249669057019338,
          -0.40415816963287754,
          0.16171047274511202,
          -1.3003093257253666,
          -0.11314001069562563,
          -0.72289234370701,
          0.07163342355024807,
          -0.7898727136211396,
          -1.0208395064284823,
          -1.9331583380174855,
          -0.29098444115727984,
          -0.39491949792058384,
          0.1339944576082309,
          -1.0716522008460976,
          -0.7113440040666431,
          -1.475844088258947,
          -0.2725070977326924,
          0.7091017716985136,
          -0.7067246682104963,
          -0.7529180267719648,
          -1.953945349370146,
          -0.17088170889746157,
          -0.8222080646141677,
          0.034678736701073236,
          -1.4365797334816988,
          -1.8130556057576672,
          -0.8822594307440768,
          -1.1155358914794924,
          -0.8660917552475625,
          -0.6328152945121466,
          -1.4920117637554609,
          -1.487392427899314,
          -0.06925632006223076,
          -1.4712247524028002,
          -0.26557809394847187,
          -1.4181023900571113,
          -1.7991975981892265,
          -0.5727639283822374,
          -1.7899589264769329,
          -1.1386325707602267,
          -1.3187866691499541,
          -1.1386325707602267,
          -1.7784105868365658,
          0.14785246517667144,
          -2.023235387212349,
          -1.4989407675396813,
          -1.7021915452101426,
          0.02313039706070635,
          -1.7599332434119783
         ],
         "z": [
          1.3140017045108203,
          1.2006169394256143,
          1.421257563375205,
          1.1178767054445176,
          1.0167497528009557,
          1.0841677212299972,
          1.1178767054445176,
          0.9401384250406815,
          0.6153063953371176,
          1.1883591269839704,
          0.6919177230973919,
          1.0443298307946547,
          1.0044919403593118,
          0.8236892068450643,
          0.9309450657094482,
          0.7501423321952008,
          0.8972360814949277,
          1.1883591269839704,
          0.6428864733308168,
          1.0872321743404079,
          0.8482048317283521,
          1.1730368614319153,
          0.5632106924601313,
          0.3793435058354726,
          0.6061130360058851,
          0.2046696785420471,
          0.6612731919932827,
          0.8849782690532838,
          1.1883591269839704,
          0.6551442857724608,
          1.1331989709965729,
          1.025943112132189,
          0.6398220202204055,
          0.3456345216209515,
          0.6980466293182138,
          0.0391892105798542,
          0.9554606905927361,
          0.7532067853056114,
          0.973847409255202,
          0.4161169431604043,
          1.0688454556779419,
          0.3456345216209515,
          0.09741381967766247,
          1.025943112132189,
          0.572404051791364,
          0.20773413165245774,
          0.7348200666431455,
          0.9156228001573936,
          0.2874099125231432,
          -0.3438674282215179,
          1.1117477992236957,
          0.7103044417598576,
          -0.2580627411300105,
          0.5846618642330078,
          -0.0037131329658995093,
          0.612241942226707,
          0.09741381967766247,
          0.2782165531919106,
          0.6919177230973919,
          0.5754685049017753,
          1.0351364714634215,
          0.8665915503908179,
          0.4467614742645141,
          0.28434545941273254,
          0.17096069432752597,
          0.8298181130658863,
          0.7011110824286251,
          0.5295017082456103,
          0.09434936656725183,
          0.6949821762078031,
          0.6275642077787615,
          0.1740251474379373,
          0.21692749098369102,
          0.051447023021498124,
          -0.009842039186721468,
          -0.1477424291552152,
          0.9217517063782156,
          -0.3959631310985049,
          -0.06806664828453042,
          0.2812810063023212,
          0.4345036618228702,
          0.13725171011300555,
          -0.628861567489739,
          0.0391892105798542,
          0.8328825661762969,
          -1.5052951570672781,
          0.04531811680067616,
          0.3088610842960197,
          -0.9291779723100146,
          -0.6411193799313829,
          -1.1651408618116597,
          0.6061130360058851,
          -1.7535158590105675,
          -0.4143498497609708,
          -0.45725219330672445,
          -0.874017816322617,
          -0.8311154727768633,
          -0.622732661268917,
          -1.903674061420705,
          -0.1661291478176811,
          -1.3152990642217977,
          -1.2019142991365914,
          -1.0486916436160427,
          -0.09258227316781825,
          -0.025164304738776705,
          -1.2264299240198793,
          -1.529810781950566,
          -1.6186799221524844,
          -0.5369279741774096,
          -0.8433732852185072,
          0.20773413165245774,
          -0.03742211718042062,
          -0.5951525832752182,
          -0.4051564904297375,
          -2.8015588227711214,
          -0.0956467262782289,
          -1.9710920298497465,
          -1.661582265698238,
          -1.5910998441587856,
          -0.5645080521711084,
          -1.5757775786067305,
          -0.5399924272878206,
          -0.12935571049274933,
          -1.5696486723859087,
          -1.4777150790735794,
          -1.1559475024804267,
          -0.8157932072248084,
          -1.131431877597139,
          -2.5410803083861886,
          -2.07528343560372,
          -0.35306078755275117,
          -1.1406252369283718,
          -0.8433732852185072,
          -1.8883517958686502,
          -2.084476794934953,
          -3.5431564754905778
         ]
        }
       ],
       "layout": {
        "height": 750,
        "scene": {
         "xaxis": {
          "title": {
           "text": "happiness_score"
          }
         },
         "yaxis": {
          "title": {
           "text": "gdp_per_capita"
          }
         },
         "zaxis": {
          "title": {
           "text": "social_support"
          }
         }
        },
        "template": {
         "data": {
          "bar": [
           {
            "error_x": {
             "color": "#2a3f5f"
            },
            "error_y": {
             "color": "#2a3f5f"
            },
            "marker": {
             "line": {
              "color": "#E5ECF6",
              "width": 0.5
             },
             "pattern": {
              "fillmode": "overlay",
              "size": 10,
              "solidity": 0.2
             }
            },
            "type": "bar"
           }
          ],
          "barpolar": [
           {
            "marker": {
             "line": {
              "color": "#E5ECF6",
              "width": 0.5
             },
             "pattern": {
              "fillmode": "overlay",
              "size": 10,
              "solidity": 0.2
             }
            },
            "type": "barpolar"
           }
          ],
          "carpet": [
           {
            "aaxis": {
             "endlinecolor": "#2a3f5f",
             "gridcolor": "white",
             "linecolor": "white",
             "minorgridcolor": "white",
             "startlinecolor": "#2a3f5f"
            },
            "baxis": {
             "endlinecolor": "#2a3f5f",
             "gridcolor": "white",
             "linecolor": "white",
             "minorgridcolor": "white",
             "startlinecolor": "#2a3f5f"
            },
            "type": "carpet"
           }
          ],
          "choropleth": [
           {
            "colorbar": {
             "outlinewidth": 0,
             "ticks": ""
            },
            "type": "choropleth"
           }
          ],
          "contour": [
           {
            "colorbar": {
             "outlinewidth": 0,
             "ticks": ""
            },
            "colorscale": [
             [
              0,
              "#0d0887"
             ],
             [
              0.1111111111111111,
              "#46039f"
             ],
             [
              0.2222222222222222,
              "#7201a8"
             ],
             [
              0.3333333333333333,
              "#9c179e"
             ],
             [
              0.4444444444444444,
              "#bd3786"
             ],
             [
              0.5555555555555556,
              "#d8576b"
             ],
             [
              0.6666666666666666,
              "#ed7953"
             ],
             [
              0.7777777777777778,
              "#fb9f3a"
             ],
             [
              0.8888888888888888,
              "#fdca26"
             ],
             [
              1,
              "#f0f921"
             ]
            ],
            "type": "contour"
           }
          ],
          "contourcarpet": [
           {
            "colorbar": {
             "outlinewidth": 0,
             "ticks": ""
            },
            "type": "contourcarpet"
           }
          ],
          "heatmap": [
           {
            "colorbar": {
             "outlinewidth": 0,
             "ticks": ""
            },
            "colorscale": [
             [
              0,
              "#0d0887"
             ],
             [
              0.1111111111111111,
              "#46039f"
             ],
             [
              0.2222222222222222,
              "#7201a8"
             ],
             [
              0.3333333333333333,
              "#9c179e"
             ],
             [
              0.4444444444444444,
              "#bd3786"
             ],
             [
              0.5555555555555556,
              "#d8576b"
             ],
             [
              0.6666666666666666,
              "#ed7953"
             ],
             [
              0.7777777777777778,
              "#fb9f3a"
             ],
             [
              0.8888888888888888,
              "#fdca26"
             ],
             [
              1,
              "#f0f921"
             ]
            ],
            "type": "heatmap"
           }
          ],
          "heatmapgl": [
           {
            "colorbar": {
             "outlinewidth": 0,
             "ticks": ""
            },
            "colorscale": [
             [
              0,
              "#0d0887"
             ],
             [
              0.1111111111111111,
              "#46039f"
             ],
             [
              0.2222222222222222,
              "#7201a8"
             ],
             [
              0.3333333333333333,
              "#9c179e"
             ],
             [
              0.4444444444444444,
              "#bd3786"
             ],
             [
              0.5555555555555556,
              "#d8576b"
             ],
             [
              0.6666666666666666,
              "#ed7953"
             ],
             [
              0.7777777777777778,
              "#fb9f3a"
             ],
             [
              0.8888888888888888,
              "#fdca26"
             ],
             [
              1,
              "#f0f921"
             ]
            ],
            "type": "heatmapgl"
           }
          ],
          "histogram": [
           {
            "marker": {
             "pattern": {
              "fillmode": "overlay",
              "size": 10,
              "solidity": 0.2
             }
            },
            "type": "histogram"
           }
          ],
          "histogram2d": [
           {
            "colorbar": {
             "outlinewidth": 0,
             "ticks": ""
            },
            "colorscale": [
             [
              0,
              "#0d0887"
             ],
             [
              0.1111111111111111,
              "#46039f"
             ],
             [
              0.2222222222222222,
              "#7201a8"
             ],
             [
              0.3333333333333333,
              "#9c179e"
             ],
             [
              0.4444444444444444,
              "#bd3786"
             ],
             [
              0.5555555555555556,
              "#d8576b"
             ],
             [
              0.6666666666666666,
              "#ed7953"
             ],
             [
              0.7777777777777778,
              "#fb9f3a"
             ],
             [
              0.8888888888888888,
              "#fdca26"
             ],
             [
              1,
              "#f0f921"
             ]
            ],
            "type": "histogram2d"
           }
          ],
          "histogram2dcontour": [
           {
            "colorbar": {
             "outlinewidth": 0,
             "ticks": ""
            },
            "colorscale": [
             [
              0,
              "#0d0887"
             ],
             [
              0.1111111111111111,
              "#46039f"
             ],
             [
              0.2222222222222222,
              "#7201a8"
             ],
             [
              0.3333333333333333,
              "#9c179e"
             ],
             [
              0.4444444444444444,
              "#bd3786"
             ],
             [
              0.5555555555555556,
              "#d8576b"
             ],
             [
              0.6666666666666666,
              "#ed7953"
             ],
             [
              0.7777777777777778,
              "#fb9f3a"
             ],
             [
              0.8888888888888888,
              "#fdca26"
             ],
             [
              1,
              "#f0f921"
             ]
            ],
            "type": "histogram2dcontour"
           }
          ],
          "mesh3d": [
           {
            "colorbar": {
             "outlinewidth": 0,
             "ticks": ""
            },
            "type": "mesh3d"
           }
          ],
          "parcoords": [
           {
            "line": {
             "colorbar": {
              "outlinewidth": 0,
              "ticks": ""
             }
            },
            "type": "parcoords"
           }
          ],
          "pie": [
           {
            "automargin": true,
            "type": "pie"
           }
          ],
          "scatter": [
           {
            "fillpattern": {
             "fillmode": "overlay",
             "size": 10,
             "solidity": 0.2
            },
            "type": "scatter"
           }
          ],
          "scatter3d": [
           {
            "line": {
             "colorbar": {
              "outlinewidth": 0,
              "ticks": ""
             }
            },
            "marker": {
             "colorbar": {
              "outlinewidth": 0,
              "ticks": ""
             }
            },
            "type": "scatter3d"
           }
          ],
          "scattercarpet": [
           {
            "marker": {
             "colorbar": {
              "outlinewidth": 0,
              "ticks": ""
             }
            },
            "type": "scattercarpet"
           }
          ],
          "scattergeo": [
           {
            "marker": {
             "colorbar": {
              "outlinewidth": 0,
              "ticks": ""
             }
            },
            "type": "scattergeo"
           }
          ],
          "scattergl": [
           {
            "marker": {
             "colorbar": {
              "outlinewidth": 0,
              "ticks": ""
             }
            },
            "type": "scattergl"
           }
          ],
          "scattermapbox": [
           {
            "marker": {
             "colorbar": {
              "outlinewidth": 0,
              "ticks": ""
             }
            },
            "type": "scattermapbox"
           }
          ],
          "scatterpolar": [
           {
            "marker": {
             "colorbar": {
              "outlinewidth": 0,
              "ticks": ""
             }
            },
            "type": "scatterpolar"
           }
          ],
          "scatterpolargl": [
           {
            "marker": {
             "colorbar": {
              "outlinewidth": 0,
              "ticks": ""
             }
            },
            "type": "scatterpolargl"
           }
          ],
          "scatterternary": [
           {
            "marker": {
             "colorbar": {
              "outlinewidth": 0,
              "ticks": ""
             }
            },
            "type": "scatterternary"
           }
          ],
          "surface": [
           {
            "colorbar": {
             "outlinewidth": 0,
             "ticks": ""
            },
            "colorscale": [
             [
              0,
              "#0d0887"
             ],
             [
              0.1111111111111111,
              "#46039f"
             ],
             [
              0.2222222222222222,
              "#7201a8"
             ],
             [
              0.3333333333333333,
              "#9c179e"
             ],
             [
              0.4444444444444444,
              "#bd3786"
             ],
             [
              0.5555555555555556,
              "#d8576b"
             ],
             [
              0.6666666666666666,
              "#ed7953"
             ],
             [
              0.7777777777777778,
              "#fb9f3a"
             ],
             [
              0.8888888888888888,
              "#fdca26"
             ],
             [
              1,
              "#f0f921"
             ]
            ],
            "type": "surface"
           }
          ],
          "table": [
           {
            "cells": {
             "fill": {
              "color": "#EBF0F8"
             },
             "line": {
              "color": "white"
             }
            },
            "header": {
             "fill": {
              "color": "#C8D4E3"
             },
             "line": {
              "color": "white"
             }
            },
            "type": "table"
           }
          ]
         },
         "layout": {
          "annotationdefaults": {
           "arrowcolor": "#2a3f5f",
           "arrowhead": 0,
           "arrowwidth": 1
          },
          "autotypenumbers": "strict",
          "coloraxis": {
           "colorbar": {
            "outlinewidth": 0,
            "ticks": ""
           }
          },
          "colorscale": {
           "diverging": [
            [
             0,
             "#8e0152"
            ],
            [
             0.1,
             "#c51b7d"
            ],
            [
             0.2,
             "#de77ae"
            ],
            [
             0.3,
             "#f1b6da"
            ],
            [
             0.4,
             "#fde0ef"
            ],
            [
             0.5,
             "#f7f7f7"
            ],
            [
             0.6,
             "#e6f5d0"
            ],
            [
             0.7,
             "#b8e186"
            ],
            [
             0.8,
             "#7fbc41"
            ],
            [
             0.9,
             "#4d9221"
            ],
            [
             1,
             "#276419"
            ]
           ],
           "sequential": [
            [
             0,
             "#0d0887"
            ],
            [
             0.1111111111111111,
             "#46039f"
            ],
            [
             0.2222222222222222,
             "#7201a8"
            ],
            [
             0.3333333333333333,
             "#9c179e"
            ],
            [
             0.4444444444444444,
             "#bd3786"
            ],
            [
             0.5555555555555556,
             "#d8576b"
            ],
            [
             0.6666666666666666,
             "#ed7953"
            ],
            [
             0.7777777777777778,
             "#fb9f3a"
            ],
            [
             0.8888888888888888,
             "#fdca26"
            ],
            [
             1,
             "#f0f921"
            ]
           ],
           "sequentialminus": [
            [
             0,
             "#0d0887"
            ],
            [
             0.1111111111111111,
             "#46039f"
            ],
            [
             0.2222222222222222,
             "#7201a8"
            ],
            [
             0.3333333333333333,
             "#9c179e"
            ],
            [
             0.4444444444444444,
             "#bd3786"
            ],
            [
             0.5555555555555556,
             "#d8576b"
            ],
            [
             0.6666666666666666,
             "#ed7953"
            ],
            [
             0.7777777777777778,
             "#fb9f3a"
            ],
            [
             0.8888888888888888,
             "#fdca26"
            ],
            [
             1,
             "#f0f921"
            ]
           ]
          },
          "colorway": [
           "#636efa",
           "#EF553B",
           "#00cc96",
           "#ab63fa",
           "#FFA15A",
           "#19d3f3",
           "#FF6692",
           "#B6E880",
           "#FF97FF",
           "#FECB52"
          ],
          "font": {
           "color": "#2a3f5f"
          },
          "geo": {
           "bgcolor": "white",
           "lakecolor": "white",
           "landcolor": "#E5ECF6",
           "showlakes": true,
           "showland": true,
           "subunitcolor": "white"
          },
          "hoverlabel": {
           "align": "left"
          },
          "hovermode": "closest",
          "mapbox": {
           "style": "light"
          },
          "paper_bgcolor": "white",
          "plot_bgcolor": "#E5ECF6",
          "polar": {
           "angularaxis": {
            "gridcolor": "white",
            "linecolor": "white",
            "ticks": ""
           },
           "bgcolor": "#E5ECF6",
           "radialaxis": {
            "gridcolor": "white",
            "linecolor": "white",
            "ticks": ""
           }
          },
          "scene": {
           "xaxis": {
            "backgroundcolor": "#E5ECF6",
            "gridcolor": "white",
            "gridwidth": 2,
            "linecolor": "white",
            "showbackground": true,
            "ticks": "",
            "zerolinecolor": "white"
           },
           "yaxis": {
            "backgroundcolor": "#E5ECF6",
            "gridcolor": "white",
            "gridwidth": 2,
            "linecolor": "white",
            "showbackground": true,
            "ticks": "",
            "zerolinecolor": "white"
           },
           "zaxis": {
            "backgroundcolor": "#E5ECF6",
            "gridcolor": "white",
            "gridwidth": 2,
            "linecolor": "white",
            "showbackground": true,
            "ticks": "",
            "zerolinecolor": "white"
           }
          },
          "shapedefaults": {
           "line": {
            "color": "#2a3f5f"
           }
          },
          "ternary": {
           "aaxis": {
            "gridcolor": "white",
            "linecolor": "white",
            "ticks": ""
           },
           "baxis": {
            "gridcolor": "white",
            "linecolor": "white",
            "ticks": ""
           },
           "bgcolor": "#E5ECF6",
           "caxis": {
            "gridcolor": "white",
            "linecolor": "white",
            "ticks": ""
           }
          },
          "title": {
           "x": 0.05
          },
          "xaxis": {
           "automargin": true,
           "gridcolor": "white",
           "linecolor": "white",
           "ticks": "",
           "title": {
            "standoff": 15
           },
           "zerolinecolor": "white",
           "zerolinewidth": 2
          },
          "yaxis": {
           "automargin": true,
           "gridcolor": "white",
           "linecolor": "white",
           "ticks": "",
           "title": {
            "standoff": 15
           },
           "zerolinecolor": "white",
           "zerolinewidth": 2
          }
         }
        },
        "width": 750
       }
      }
     },
     "metadata": {},
     "output_type": "display_data"
    }
   ],
   "source": [
    "model = AgglomerativeClustering(Best_K, compute_distances=True)\n",
    "clastering = model.fit(df)\n",
    "df[\"Cluster\"] = clastering.labels_\n",
    "makeFigure()"
   ]
  },
  {
   "cell_type": "markdown",
   "metadata": {},
   "source": [
    "4. Провести кластеризацию данных с помощью алгоритма DBSCAN.\n"
   ]
  },
  {
   "cell_type": "code",
   "execution_count": 7,
   "metadata": {},
   "outputs": [
    {
     "data": {
      "application/vnd.plotly.v1+json": {
       "config": {
        "plotlyServerURL": "https://plot.ly"
       },
       "data": [
        {
         "marker": {
          "color": [
           0,
           0,
           -1,
           0,
           0,
           0,
           0,
           0,
           0,
           0,
           0,
           0,
           0,
           0,
           -1,
           0,
           0,
           -1,
           0,
           1,
           0,
           1,
           1,
           1,
           0,
           -1,
           1,
           1,
           1,
           1,
           0,
           1,
           1,
           1,
           1,
           1,
           -1,
           1,
           1,
           -1,
           1,
           -1,
           1,
           1,
           1,
           1,
           -1,
           1,
           1,
           1,
           1,
           1,
           -1,
           -1,
           1,
           1,
           1,
           -1,
           1,
           1,
           -1,
           -1,
           1,
           1,
           1,
           1,
           1,
           1,
           1,
           1,
           1,
           1,
           1,
           1,
           1,
           1,
           1,
           -1,
           1,
           -1,
           -1,
           -1,
           1,
           -1,
           -1,
           2,
           1,
           -1,
           -1,
           1,
           2,
           1,
           2,
           -1,
           2,
           2,
           -1,
           -1,
           -1,
           -1,
           2,
           -1,
           2,
           -1,
           -1,
           2,
           2,
           2,
           -1,
           -1,
           -1,
           -1,
           2,
           -1,
           -1,
           -1,
           -1,
           -1,
           2,
           -1,
           2,
           -1,
           -1,
           2,
           -1,
           -1,
           2,
           -1,
           -1,
           -1,
           -1,
           -1,
           -1,
           -1,
           -1,
           -1
          ],
          "colorbar": {
           "nticks": 5
          },
          "size": 4
         },
         "mode": "markers",
         "type": "scatter3d",
         "x": [
          1.986268341186112,
          1.795028317852915,
          1.7459024402994332,
          1.695899314932496,
          1.6344919679906433,
          1.6274739854830031,
          1.5572941604066013,
          1.4915005743974736,
          1.4809736006360128,
          1.3888625802232348,
          1.366054137073404,
          1.3642996414464934,
          1.2467484344435196,
          1.2028860437707674,
          1.1879728309420323,
          1.1862183353151223,
          1.157269157471106,
          1.1449876880827354,
          1.1020025452234392,
          1.073053367379423,
          0.9835740904070093,
          0.9739243644590045,
          0.9379572041073478,
          0.9204122478382476,
          0.9186577522113369,
          0.9046217871960565,
          0.8730408659116756,
          0.8370737055600189,
          0.8151425102236436,
          0.8098790233429132,
          0.802861040835273,
          0.7861933323796272,
          0.7589986501625214,
          0.7265404810646853,
          0.6967140554072137,
          0.6932050641533939,
          0.6668876297497427,
          0.6361839562788164,
          0.6317977172115413,
          0.6309204693980868,
          0.5905670699791551,
          0.5554771574409537,
          0.5353004577314883,
          0.5300369708507578,
          0.5300369708507578,
          0.5177555014623871,
          0.5168782536489319,
          0.5133692623951122,
          0.5133692623951122,
          0.510737518954747,
          0.4396804460648897,
          0.42476723323615384,
          0.4238899854226985,
          0.4159947551016037,
          0.41424025947469306,
          0.375641355682672,
          0.3607281428539361,
          0.3431831865848358,
          0.31774299999463995,
          0.2659853790007929,
          0.26335363556042773,
          0.2501949183586025,
          0.2449314314778721,
          0.24405418366441678,
          0.19580555392439025,
          0.1738743585880149,
          0.15983839357273436,
          0.14317068511708864,
          0.1265029766614429,
          0.10632627695197665,
          0.0817633381752361,
          0.0791315947348709,
          0.025619478114113962,
          0.016846999979563824,
          -0.012102177864452569,
          -0.014733921304817767,
          -0.06473704667175419,
          -0.15772531489798752,
          -0.17351577554017872,
          -0.18404274930163872,
          -0.18491999711509405,
          -0.20334220119764965,
          -0.2305368834147554,
          -0.2305368834147554,
          -0.23229137904166525,
          -0.23930936154930552,
          -0.25071358312422165,
          -0.2884352391027874,
          -0.3761600204482911,
          -0.377914516075201,
          -0.41037268517303715,
          -0.41124993298649243,
          -0.42704039362868285,
          -0.44283085427087326,
          -0.49020223619744524,
          -0.49722021870508554,
          -0.5138879271607313,
          -0.5252921487356466,
          -0.558627565646938,
          -0.5823132566102233,
          -0.6007354606927788,
          -0.7156549242553883,
          -0.7910982362125214,
          -0.7972389709067064,
          -0.8121521837354422,
          -0.820047414056537,
          -0.8639098047292892,
          -0.9112811866558604,
          -0.914790177909681,
          -0.9235626560442312,
          -0.9630388076497075,
          -0.9718112857842577,
          -1.0025149592551839,
          -1.0060239505090045,
          -1.0226916589646502,
          -1.0244461545915602,
          -1.1033984578025129,
          -1.106030201242878,
          -1.1770872741327354,
          -1.2016502129094766,
          -1.2305993907534931,
          -1.2455126035822282,
          -1.270952790172424,
          -1.313937933031721,
          -1.3192014199124513,
          -1.3341146327411864,
          -1.3665728018390224,
          -1.6192201721140722,
          -1.749930096318872,
          -1.7937924869916235,
          -1.8464273557989255,
          -2.046439857266673,
          -2.049071600707038,
          -2.10696995639507,
          -2.7613968252325245,
          -3.2289699098040567
         ],
         "y": [
          1.1109839911832895,
          1.251873734795769,
          1.1987513724500798,
          0.9839522551392512,
          1.2357060592992546,
          1.187203032809713,
          1.3558087915590729,
          1.4204794935451284,
          1.8316003847421989,
          1.0047392664919124,
          1.2010610403781534,
          1.1363903383920975,
          1.0948163156867758,
          1.7207363241946745,
          1.3234734405660449,
          1.1825836969535661,
          1.154867681816685,
          0.960855575858517,
          1.0393842854130135,
          0.9262105569374158,
          1.0370746174849403,
          0.9423782324339296,
          0.4157739448331885,
          0.7368177868353948,
          1.7576910110438493,
          1.4043118180486152,
          1.1156033270394363,
          0.48506398267539136,
          0.7483661264757622,
          1.0486229571253072,
          0.9031138776566815,
          0.9031138776566815,
          0.9816425872111781,
          -0.07618532384645078,
          0.5497346846614474,
          0.330316231494472,
          1.0024295985638387,
          0.7091017716985136,
          0.8315141718864051,
          -0.6882473247859089,
          0.7622241340442028,
          1.0994356515429227,
          -0.27712643358883926,
          0.5936183752948422,
          0.33493556735061886,
          0.9631652437865906,
          0.9654749117146638,
          0.7391274547634684,
          0.10858811039942293,
          -0.29791344494149985,
          0.8014884888214507,
          0.4227029486174091,
          -0.6743893172174683,
          -0.41570650927324443,
          0.5959280432229159,
          0.8107271605337444,
          1.0301456137007199,
          0.695243764130073,
          0.4203932806893354,
          0.24947785401190176,
          -0.06463698420608391,
          -0.7991113853334334,
          0.041607740485293775,
          0.23792951437153487,
          -0.13392702204828674,
          0.0485367442695138,
          0.3002905484295172,
          -0.23555241088351755,
          -0.3856808262082901,
          0.6305730621440171,
          0.13861379346437774,
          0.1108977783274966,
          0.297980880501444,
          -0.1477850296167273,
          -0.039230636997276455,
          -0.39030016206443696,
          0.526638005380713,
          -0.9885041554354542,
          0.13630412553630405,
          -1.0046718309319682,
          -0.12468835033599303,
          1.2564930706519157,
          0.09703977075905604,
          -0.05308864456571702,
          0.02313039706070635,
          -1.1224648952637128,
          0.21021349923465374,
          -3.249669057019338,
          -0.40415816963287754,
          0.16171047274511202,
          -1.3003093257253666,
          -0.11314001069562563,
          -0.72289234370701,
          0.07163342355024807,
          -0.7898727136211396,
          -1.0208395064284823,
          -1.9331583380174855,
          -0.29098444115727984,
          -0.39491949792058384,
          0.1339944576082309,
          -1.0716522008460976,
          -0.7113440040666431,
          -1.475844088258947,
          -0.2725070977326924,
          0.7091017716985136,
          -0.7067246682104963,
          -0.7529180267719648,
          -1.953945349370146,
          -0.17088170889746157,
          -0.8222080646141677,
          0.034678736701073236,
          -1.4365797334816988,
          -1.8130556057576672,
          -0.8822594307440768,
          -1.1155358914794924,
          -0.8660917552475625,
          -0.6328152945121466,
          -1.4920117637554609,
          -1.487392427899314,
          -0.06925632006223076,
          -1.4712247524028002,
          -0.26557809394847187,
          -1.4181023900571113,
          -1.7991975981892265,
          -0.5727639283822374,
          -1.7899589264769329,
          -1.1386325707602267,
          -1.3187866691499541,
          -1.1386325707602267,
          -1.7784105868365658,
          0.14785246517667144,
          -2.023235387212349,
          -1.4989407675396813,
          -1.7021915452101426,
          0.02313039706070635,
          -1.7599332434119783
         ],
         "z": [
          1.3140017045108203,
          1.2006169394256143,
          1.421257563375205,
          1.1178767054445176,
          1.0167497528009557,
          1.0841677212299972,
          1.1178767054445176,
          0.9401384250406815,
          0.6153063953371176,
          1.1883591269839704,
          0.6919177230973919,
          1.0443298307946547,
          1.0044919403593118,
          0.8236892068450643,
          0.9309450657094482,
          0.7501423321952008,
          0.8972360814949277,
          1.1883591269839704,
          0.6428864733308168,
          1.0872321743404079,
          0.8482048317283521,
          1.1730368614319153,
          0.5632106924601313,
          0.3793435058354726,
          0.6061130360058851,
          0.2046696785420471,
          0.6612731919932827,
          0.8849782690532838,
          1.1883591269839704,
          0.6551442857724608,
          1.1331989709965729,
          1.025943112132189,
          0.6398220202204055,
          0.3456345216209515,
          0.6980466293182138,
          0.0391892105798542,
          0.9554606905927361,
          0.7532067853056114,
          0.973847409255202,
          0.4161169431604043,
          1.0688454556779419,
          0.3456345216209515,
          0.09741381967766247,
          1.025943112132189,
          0.572404051791364,
          0.20773413165245774,
          0.7348200666431455,
          0.9156228001573936,
          0.2874099125231432,
          -0.3438674282215179,
          1.1117477992236957,
          0.7103044417598576,
          -0.2580627411300105,
          0.5846618642330078,
          -0.0037131329658995093,
          0.612241942226707,
          0.09741381967766247,
          0.2782165531919106,
          0.6919177230973919,
          0.5754685049017753,
          1.0351364714634215,
          0.8665915503908179,
          0.4467614742645141,
          0.28434545941273254,
          0.17096069432752597,
          0.8298181130658863,
          0.7011110824286251,
          0.5295017082456103,
          0.09434936656725183,
          0.6949821762078031,
          0.6275642077787615,
          0.1740251474379373,
          0.21692749098369102,
          0.051447023021498124,
          -0.009842039186721468,
          -0.1477424291552152,
          0.9217517063782156,
          -0.3959631310985049,
          -0.06806664828453042,
          0.2812810063023212,
          0.4345036618228702,
          0.13725171011300555,
          -0.628861567489739,
          0.0391892105798542,
          0.8328825661762969,
          -1.5052951570672781,
          0.04531811680067616,
          0.3088610842960197,
          -0.9291779723100146,
          -0.6411193799313829,
          -1.1651408618116597,
          0.6061130360058851,
          -1.7535158590105675,
          -0.4143498497609708,
          -0.45725219330672445,
          -0.874017816322617,
          -0.8311154727768633,
          -0.622732661268917,
          -1.903674061420705,
          -0.1661291478176811,
          -1.3152990642217977,
          -1.2019142991365914,
          -1.0486916436160427,
          -0.09258227316781825,
          -0.025164304738776705,
          -1.2264299240198793,
          -1.529810781950566,
          -1.6186799221524844,
          -0.5369279741774096,
          -0.8433732852185072,
          0.20773413165245774,
          -0.03742211718042062,
          -0.5951525832752182,
          -0.4051564904297375,
          -2.8015588227711214,
          -0.0956467262782289,
          -1.9710920298497465,
          -1.661582265698238,
          -1.5910998441587856,
          -0.5645080521711084,
          -1.5757775786067305,
          -0.5399924272878206,
          -0.12935571049274933,
          -1.5696486723859087,
          -1.4777150790735794,
          -1.1559475024804267,
          -0.8157932072248084,
          -1.131431877597139,
          -2.5410803083861886,
          -2.07528343560372,
          -0.35306078755275117,
          -1.1406252369283718,
          -0.8433732852185072,
          -1.8883517958686502,
          -2.084476794934953,
          -3.5431564754905778
         ]
        }
       ],
       "layout": {
        "height": 750,
        "scene": {
         "xaxis": {
          "title": {
           "text": "happiness_score"
          }
         },
         "yaxis": {
          "title": {
           "text": "gdp_per_capita"
          }
         },
         "zaxis": {
          "title": {
           "text": "social_support"
          }
         }
        },
        "template": {
         "data": {
          "bar": [
           {
            "error_x": {
             "color": "#2a3f5f"
            },
            "error_y": {
             "color": "#2a3f5f"
            },
            "marker": {
             "line": {
              "color": "#E5ECF6",
              "width": 0.5
             },
             "pattern": {
              "fillmode": "overlay",
              "size": 10,
              "solidity": 0.2
             }
            },
            "type": "bar"
           }
          ],
          "barpolar": [
           {
            "marker": {
             "line": {
              "color": "#E5ECF6",
              "width": 0.5
             },
             "pattern": {
              "fillmode": "overlay",
              "size": 10,
              "solidity": 0.2
             }
            },
            "type": "barpolar"
           }
          ],
          "carpet": [
           {
            "aaxis": {
             "endlinecolor": "#2a3f5f",
             "gridcolor": "white",
             "linecolor": "white",
             "minorgridcolor": "white",
             "startlinecolor": "#2a3f5f"
            },
            "baxis": {
             "endlinecolor": "#2a3f5f",
             "gridcolor": "white",
             "linecolor": "white",
             "minorgridcolor": "white",
             "startlinecolor": "#2a3f5f"
            },
            "type": "carpet"
           }
          ],
          "choropleth": [
           {
            "colorbar": {
             "outlinewidth": 0,
             "ticks": ""
            },
            "type": "choropleth"
           }
          ],
          "contour": [
           {
            "colorbar": {
             "outlinewidth": 0,
             "ticks": ""
            },
            "colorscale": [
             [
              0,
              "#0d0887"
             ],
             [
              0.1111111111111111,
              "#46039f"
             ],
             [
              0.2222222222222222,
              "#7201a8"
             ],
             [
              0.3333333333333333,
              "#9c179e"
             ],
             [
              0.4444444444444444,
              "#bd3786"
             ],
             [
              0.5555555555555556,
              "#d8576b"
             ],
             [
              0.6666666666666666,
              "#ed7953"
             ],
             [
              0.7777777777777778,
              "#fb9f3a"
             ],
             [
              0.8888888888888888,
              "#fdca26"
             ],
             [
              1,
              "#f0f921"
             ]
            ],
            "type": "contour"
           }
          ],
          "contourcarpet": [
           {
            "colorbar": {
             "outlinewidth": 0,
             "ticks": ""
            },
            "type": "contourcarpet"
           }
          ],
          "heatmap": [
           {
            "colorbar": {
             "outlinewidth": 0,
             "ticks": ""
            },
            "colorscale": [
             [
              0,
              "#0d0887"
             ],
             [
              0.1111111111111111,
              "#46039f"
             ],
             [
              0.2222222222222222,
              "#7201a8"
             ],
             [
              0.3333333333333333,
              "#9c179e"
             ],
             [
              0.4444444444444444,
              "#bd3786"
             ],
             [
              0.5555555555555556,
              "#d8576b"
             ],
             [
              0.6666666666666666,
              "#ed7953"
             ],
             [
              0.7777777777777778,
              "#fb9f3a"
             ],
             [
              0.8888888888888888,
              "#fdca26"
             ],
             [
              1,
              "#f0f921"
             ]
            ],
            "type": "heatmap"
           }
          ],
          "heatmapgl": [
           {
            "colorbar": {
             "outlinewidth": 0,
             "ticks": ""
            },
            "colorscale": [
             [
              0,
              "#0d0887"
             ],
             [
              0.1111111111111111,
              "#46039f"
             ],
             [
              0.2222222222222222,
              "#7201a8"
             ],
             [
              0.3333333333333333,
              "#9c179e"
             ],
             [
              0.4444444444444444,
              "#bd3786"
             ],
             [
              0.5555555555555556,
              "#d8576b"
             ],
             [
              0.6666666666666666,
              "#ed7953"
             ],
             [
              0.7777777777777778,
              "#fb9f3a"
             ],
             [
              0.8888888888888888,
              "#fdca26"
             ],
             [
              1,
              "#f0f921"
             ]
            ],
            "type": "heatmapgl"
           }
          ],
          "histogram": [
           {
            "marker": {
             "pattern": {
              "fillmode": "overlay",
              "size": 10,
              "solidity": 0.2
             }
            },
            "type": "histogram"
           }
          ],
          "histogram2d": [
           {
            "colorbar": {
             "outlinewidth": 0,
             "ticks": ""
            },
            "colorscale": [
             [
              0,
              "#0d0887"
             ],
             [
              0.1111111111111111,
              "#46039f"
             ],
             [
              0.2222222222222222,
              "#7201a8"
             ],
             [
              0.3333333333333333,
              "#9c179e"
             ],
             [
              0.4444444444444444,
              "#bd3786"
             ],
             [
              0.5555555555555556,
              "#d8576b"
             ],
             [
              0.6666666666666666,
              "#ed7953"
             ],
             [
              0.7777777777777778,
              "#fb9f3a"
             ],
             [
              0.8888888888888888,
              "#fdca26"
             ],
             [
              1,
              "#f0f921"
             ]
            ],
            "type": "histogram2d"
           }
          ],
          "histogram2dcontour": [
           {
            "colorbar": {
             "outlinewidth": 0,
             "ticks": ""
            },
            "colorscale": [
             [
              0,
              "#0d0887"
             ],
             [
              0.1111111111111111,
              "#46039f"
             ],
             [
              0.2222222222222222,
              "#7201a8"
             ],
             [
              0.3333333333333333,
              "#9c179e"
             ],
             [
              0.4444444444444444,
              "#bd3786"
             ],
             [
              0.5555555555555556,
              "#d8576b"
             ],
             [
              0.6666666666666666,
              "#ed7953"
             ],
             [
              0.7777777777777778,
              "#fb9f3a"
             ],
             [
              0.8888888888888888,
              "#fdca26"
             ],
             [
              1,
              "#f0f921"
             ]
            ],
            "type": "histogram2dcontour"
           }
          ],
          "mesh3d": [
           {
            "colorbar": {
             "outlinewidth": 0,
             "ticks": ""
            },
            "type": "mesh3d"
           }
          ],
          "parcoords": [
           {
            "line": {
             "colorbar": {
              "outlinewidth": 0,
              "ticks": ""
             }
            },
            "type": "parcoords"
           }
          ],
          "pie": [
           {
            "automargin": true,
            "type": "pie"
           }
          ],
          "scatter": [
           {
            "fillpattern": {
             "fillmode": "overlay",
             "size": 10,
             "solidity": 0.2
            },
            "type": "scatter"
           }
          ],
          "scatter3d": [
           {
            "line": {
             "colorbar": {
              "outlinewidth": 0,
              "ticks": ""
             }
            },
            "marker": {
             "colorbar": {
              "outlinewidth": 0,
              "ticks": ""
             }
            },
            "type": "scatter3d"
           }
          ],
          "scattercarpet": [
           {
            "marker": {
             "colorbar": {
              "outlinewidth": 0,
              "ticks": ""
             }
            },
            "type": "scattercarpet"
           }
          ],
          "scattergeo": [
           {
            "marker": {
             "colorbar": {
              "outlinewidth": 0,
              "ticks": ""
             }
            },
            "type": "scattergeo"
           }
          ],
          "scattergl": [
           {
            "marker": {
             "colorbar": {
              "outlinewidth": 0,
              "ticks": ""
             }
            },
            "type": "scattergl"
           }
          ],
          "scattermapbox": [
           {
            "marker": {
             "colorbar": {
              "outlinewidth": 0,
              "ticks": ""
             }
            },
            "type": "scattermapbox"
           }
          ],
          "scatterpolar": [
           {
            "marker": {
             "colorbar": {
              "outlinewidth": 0,
              "ticks": ""
             }
            },
            "type": "scatterpolar"
           }
          ],
          "scatterpolargl": [
           {
            "marker": {
             "colorbar": {
              "outlinewidth": 0,
              "ticks": ""
             }
            },
            "type": "scatterpolargl"
           }
          ],
          "scatterternary": [
           {
            "marker": {
             "colorbar": {
              "outlinewidth": 0,
              "ticks": ""
             }
            },
            "type": "scatterternary"
           }
          ],
          "surface": [
           {
            "colorbar": {
             "outlinewidth": 0,
             "ticks": ""
            },
            "colorscale": [
             [
              0,
              "#0d0887"
             ],
             [
              0.1111111111111111,
              "#46039f"
             ],
             [
              0.2222222222222222,
              "#7201a8"
             ],
             [
              0.3333333333333333,
              "#9c179e"
             ],
             [
              0.4444444444444444,
              "#bd3786"
             ],
             [
              0.5555555555555556,
              "#d8576b"
             ],
             [
              0.6666666666666666,
              "#ed7953"
             ],
             [
              0.7777777777777778,
              "#fb9f3a"
             ],
             [
              0.8888888888888888,
              "#fdca26"
             ],
             [
              1,
              "#f0f921"
             ]
            ],
            "type": "surface"
           }
          ],
          "table": [
           {
            "cells": {
             "fill": {
              "color": "#EBF0F8"
             },
             "line": {
              "color": "white"
             }
            },
            "header": {
             "fill": {
              "color": "#C8D4E3"
             },
             "line": {
              "color": "white"
             }
            },
            "type": "table"
           }
          ]
         },
         "layout": {
          "annotationdefaults": {
           "arrowcolor": "#2a3f5f",
           "arrowhead": 0,
           "arrowwidth": 1
          },
          "autotypenumbers": "strict",
          "coloraxis": {
           "colorbar": {
            "outlinewidth": 0,
            "ticks": ""
           }
          },
          "colorscale": {
           "diverging": [
            [
             0,
             "#8e0152"
            ],
            [
             0.1,
             "#c51b7d"
            ],
            [
             0.2,
             "#de77ae"
            ],
            [
             0.3,
             "#f1b6da"
            ],
            [
             0.4,
             "#fde0ef"
            ],
            [
             0.5,
             "#f7f7f7"
            ],
            [
             0.6,
             "#e6f5d0"
            ],
            [
             0.7,
             "#b8e186"
            ],
            [
             0.8,
             "#7fbc41"
            ],
            [
             0.9,
             "#4d9221"
            ],
            [
             1,
             "#276419"
            ]
           ],
           "sequential": [
            [
             0,
             "#0d0887"
            ],
            [
             0.1111111111111111,
             "#46039f"
            ],
            [
             0.2222222222222222,
             "#7201a8"
            ],
            [
             0.3333333333333333,
             "#9c179e"
            ],
            [
             0.4444444444444444,
             "#bd3786"
            ],
            [
             0.5555555555555556,
             "#d8576b"
            ],
            [
             0.6666666666666666,
             "#ed7953"
            ],
            [
             0.7777777777777778,
             "#fb9f3a"
            ],
            [
             0.8888888888888888,
             "#fdca26"
            ],
            [
             1,
             "#f0f921"
            ]
           ],
           "sequentialminus": [
            [
             0,
             "#0d0887"
            ],
            [
             0.1111111111111111,
             "#46039f"
            ],
            [
             0.2222222222222222,
             "#7201a8"
            ],
            [
             0.3333333333333333,
             "#9c179e"
            ],
            [
             0.4444444444444444,
             "#bd3786"
            ],
            [
             0.5555555555555556,
             "#d8576b"
            ],
            [
             0.6666666666666666,
             "#ed7953"
            ],
            [
             0.7777777777777778,
             "#fb9f3a"
            ],
            [
             0.8888888888888888,
             "#fdca26"
            ],
            [
             1,
             "#f0f921"
            ]
           ]
          },
          "colorway": [
           "#636efa",
           "#EF553B",
           "#00cc96",
           "#ab63fa",
           "#FFA15A",
           "#19d3f3",
           "#FF6692",
           "#B6E880",
           "#FF97FF",
           "#FECB52"
          ],
          "font": {
           "color": "#2a3f5f"
          },
          "geo": {
           "bgcolor": "white",
           "lakecolor": "white",
           "landcolor": "#E5ECF6",
           "showlakes": true,
           "showland": true,
           "subunitcolor": "white"
          },
          "hoverlabel": {
           "align": "left"
          },
          "hovermode": "closest",
          "mapbox": {
           "style": "light"
          },
          "paper_bgcolor": "white",
          "plot_bgcolor": "#E5ECF6",
          "polar": {
           "angularaxis": {
            "gridcolor": "white",
            "linecolor": "white",
            "ticks": ""
           },
           "bgcolor": "#E5ECF6",
           "radialaxis": {
            "gridcolor": "white",
            "linecolor": "white",
            "ticks": ""
           }
          },
          "scene": {
           "xaxis": {
            "backgroundcolor": "#E5ECF6",
            "gridcolor": "white",
            "gridwidth": 2,
            "linecolor": "white",
            "showbackground": true,
            "ticks": "",
            "zerolinecolor": "white"
           },
           "yaxis": {
            "backgroundcolor": "#E5ECF6",
            "gridcolor": "white",
            "gridwidth": 2,
            "linecolor": "white",
            "showbackground": true,
            "ticks": "",
            "zerolinecolor": "white"
           },
           "zaxis": {
            "backgroundcolor": "#E5ECF6",
            "gridcolor": "white",
            "gridwidth": 2,
            "linecolor": "white",
            "showbackground": true,
            "ticks": "",
            "zerolinecolor": "white"
           }
          },
          "shapedefaults": {
           "line": {
            "color": "#2a3f5f"
           }
          },
          "ternary": {
           "aaxis": {
            "gridcolor": "white",
            "linecolor": "white",
            "ticks": ""
           },
           "baxis": {
            "gridcolor": "white",
            "linecolor": "white",
            "ticks": ""
           },
           "bgcolor": "#E5ECF6",
           "caxis": {
            "gridcolor": "white",
            "linecolor": "white",
            "ticks": ""
           }
          },
          "title": {
           "x": 0.05
          },
          "xaxis": {
           "automargin": true,
           "gridcolor": "white",
           "linecolor": "white",
           "ticks": "",
           "title": {
            "standoff": 15
           },
           "zerolinecolor": "white",
           "zerolinewidth": 2
          },
          "yaxis": {
           "automargin": true,
           "gridcolor": "white",
           "linecolor": "white",
           "ticks": "",
           "title": {
            "standoff": 15
           },
           "zerolinecolor": "white",
           "zerolinewidth": 2
          }
         }
        },
        "width": 750
       }
      }
     },
     "metadata": {},
     "output_type": "display_data"
    }
   ],
   "source": [
    "model = DBSCAN(eps=1.2, min_samples=5).fit(df)\n",
    "df[\"Cluster\"] = model.labels_\n",
    "makeFigure()"
   ]
  }
 ],
 "metadata": {
  "kernelspec": {
   "display_name": "Python 3",
   "language": "python",
   "name": "python3"
  },
  "language_info": {
   "codemirror_mode": {
    "name": "ipython",
    "version": 3
   },
   "file_extension": ".py",
   "mimetype": "text/x-python",
   "name": "python",
   "nbconvert_exporter": "python",
   "pygments_lexer": "ipython3",
   "version": "3.11.3"
  }
 },
 "nbformat": 4,
 "nbformat_minor": 2
}
