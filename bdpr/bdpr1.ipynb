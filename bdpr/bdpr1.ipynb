{
 "cells": [
  {
   "cell_type": "markdown",
   "id": "54177c0d",
   "metadata": {},
   "source": [
    "### Задание 2\n",
    "Написать программу, которая вычисляет площадь фигуры, параметры которой подаются на вход. Фигуры, которые подаются на вход: треугольник, прямоугольник, круг. Результатом работы является словарь, где ключ – это название фигуры, а значение – это площадь."
   ]
  },
  {
   "cell_type": "code",
   "execution_count": 1,
   "id": "4f9790aa",
   "metadata": {
    "scrolled": true
   },
   "outputs": [],
   "source": [
    "from math import pi, sqrt\n",
    "\n",
    "def calc_area(*args):\n",
    "    match len(args):\n",
    "        case 1:\n",
    "            r = args[0]\n",
    "            return {\"Circle\": r**2 * pi}\n",
    "        case 2:\n",
    "            a, b = args[0:2]\n",
    "            return {\"Rectangle\": a * b}\n",
    "        case 3:\n",
    "            a, b, c = args[0:3]\n",
    "            p = (a + b + c) / 2\n",
    "            return {\"Triangle\": sqrt(p * (p - a) * (p - b) * (p - c))}\n",
    "        case _:\n",
    "            print(\"Error: unexpected input\")\n",
    "            return"
   ]
  },
  {
   "cell_type": "code",
   "execution_count": 2,
   "id": "35e577f5",
   "metadata": {},
   "outputs": [
    {
     "data": {
      "text/plain": [
       "{'Circle': 3.141592653589793}"
      ]
     },
     "execution_count": 2,
     "metadata": {},
     "output_type": "execute_result"
    }
   ],
   "source": [
    "calc_area(1)"
   ]
  },
  {
   "cell_type": "code",
   "execution_count": 3,
   "id": "ee393188",
   "metadata": {},
   "outputs": [
    {
     "data": {
      "text/plain": [
       "{'Rectangle': 25}"
      ]
     },
     "execution_count": 3,
     "metadata": {},
     "output_type": "execute_result"
    }
   ],
   "source": [
    "calc_area(5, 5)"
   ]
  },
  {
   "cell_type": "code",
   "execution_count": 4,
   "id": "8c7de621",
   "metadata": {},
   "outputs": [
    {
     "data": {
      "text/plain": [
       "{'Triangle': 6.0}"
      ]
     },
     "execution_count": 4,
     "metadata": {},
     "output_type": "execute_result"
    }
   ],
   "source": [
    "calc_area(3, 4, 5)"
   ]
  },
  {
   "cell_type": "markdown",
   "id": "78afc7e3",
   "metadata": {},
   "source": [
    "### Задание 3\n",
    "Написать программу, которая на вход получает два числа и операцию, которую к ним нужно применить. Должны быть реализованы следующие операции: +, -, /, //, abs – модуль, pow или ** – возведение в степень."
   ]
  },
  {
   "cell_type": "code",
   "execution_count": 5,
   "metadata": {},
   "outputs": [],
   "source": [
    "def calc(a, b, op):\n",
    "    match op:\n",
    "        case \"+\":\n",
    "            return a + b\n",
    "        case \"-\":\n",
    "            return a - b\n",
    "        case \"*\" | \"x\":\n",
    "            return a * b\n",
    "        case \"/\":\n",
    "            return a / b\n",
    "        case \"//\":\n",
    "            return a // b\n",
    "        case \"abs\":\n",
    "            return abs(a)\n",
    "        case \"pow\" | \"**\":\n",
    "            return a**b\n",
    "        case _:\n",
    "            print(\"Error: unexpected input\")\n",
    "            return"
   ]
  },
  {
   "cell_type": "code",
   "execution_count": 6,
   "id": "cf609cc8",
   "metadata": {},
   "outputs": [
    {
     "data": {
      "text/plain": [
       "4"
      ]
     },
     "execution_count": 6,
     "metadata": {},
     "output_type": "execute_result"
    }
   ],
   "source": [
    "calc(2, 2, '+')"
   ]
  },
  {
   "cell_type": "code",
   "execution_count": 7,
   "id": "e3f142d6",
   "metadata": {},
   "outputs": [
    {
     "data": {
      "text/plain": [
       "2"
      ]
     },
     "execution_count": 7,
     "metadata": {},
     "output_type": "execute_result"
    }
   ],
   "source": [
    "calc(4, 2, '-')"
   ]
  },
  {
   "cell_type": "code",
   "execution_count": 8,
   "id": "8a35aef9",
   "metadata": {},
   "outputs": [
    {
     "data": {
      "text/plain": [
       "12"
      ]
     },
     "execution_count": 8,
     "metadata": {},
     "output_type": "execute_result"
    }
   ],
   "source": [
    "calc(3, 4, '*')"
   ]
  },
  {
   "cell_type": "markdown",
   "id": "48000bc1",
   "metadata": {},
   "source": [
    "### Задание 4\n",
    "Напишите программу, которая считывает с консоли числа (по одному в строке) до тех пор, пока сумма введённых чисел не будет равна 0 и после этого выводит сумму квадратов всех считанных чисел."
   ]
  },
  {
   "cell_type": "code",
   "execution_count": 9,
   "id": "01f44476",
   "metadata": {},
   "outputs": [],
   "source": [
    "def addtilnil(nums: list):\n",
    "    sum1, sum2 = 0, 0\n",
    "    while (True):\n",
    "        num = nums.pop(0)\n",
    "        sum1 += num\n",
    "        sum2 += num**2\n",
    "        if sum1 == 0:\n",
    "            break\n",
    "    return sum2"
   ]
  },
  {
   "cell_type": "code",
   "execution_count": 10,
   "id": "45c5a0e6",
   "metadata": {},
   "outputs": [
    {
     "data": {
      "text/plain": [
       "252"
      ]
     },
     "execution_count": 10,
     "metadata": {},
     "output_type": "execute_result"
    }
   ],
   "source": [
    "# Sum        ...  12   3  -5   1  -1   0 <--\n",
    "# Square sum ...  66 147 211 247 251 252 261 310 346 347 411\n",
    "addtilnil([1,  4,  7, -9, -8,  6, -2,  1,  3,  7,  6,  1,  8])"
   ]
  },
  {
   "cell_type": "markdown",
   "id": "c41a7645",
   "metadata": {},
   "source": [
    "### Задание 5\n",
    "Напишите программу, которая выводит последовательность чисел, длинною N, где каждое число повторяется столько раз, чему оно равно. На вход программе передаётся неотрицательное целое число N. Например, если N = 7, то программа должна вывести 1 2 2 3 3 3 4. Вывод элементов списка через пробел – print(*list)."
   ]
  },
  {
   "cell_type": "code",
   "execution_count": 11,
   "id": "9764872f",
   "metadata": {},
   "outputs": [],
   "source": [
    "def printnumcount(N):\n",
    "    curr = 0\n",
    "    count = 0\n",
    "    res = list()\n",
    "    for _ in range(N):\n",
    "        if count >= curr:\n",
    "            curr += 1\n",
    "            count = 0\n",
    "        res.append(curr)\n",
    "        count += 1\n",
    "    return res"
   ]
  },
  {
   "cell_type": "code",
   "execution_count": 12,
   "id": "78db5565",
   "metadata": {},
   "outputs": [
    {
     "name": "stdout",
     "output_type": "stream",
     "text": [
      "1 2 2 3 3 3 4\n"
     ]
    }
   ],
   "source": [
    "res = printnumcount(7)\n",
    "print(*res)"
   ]
  },
  {
   "cell_type": "code",
   "execution_count": 13,
   "id": "dab970e2",
   "metadata": {},
   "outputs": [
    {
     "name": "stdout",
     "output_type": "stream",
     "text": [
      "1 2 2 3 3 3 4 4 4 4 5 5 5 5 5 6 6 6 6 6 6 7 7 7 7 7 7 7 8 8 8 8 8 8 8 8 9 9 9 9 9 9 9 9 9 10 10 10 10 10 10 10 10 10 10\n"
     ]
    }
   ],
   "source": [
    "res = printnumcount(55)\n",
    "print(*res)"
   ]
  },
  {
   "cell_type": "markdown",
   "id": "0c33d205",
   "metadata": {},
   "source": [
    "### Задание 6\n",
    "Даны два списка:\n",
    "```\n",
    "А = [1, 2, 3, 4, 2, 1, 3, 4, 5, 6, 5, 4, 3, 2]\n",
    "В = ['a', 'b', 'c', 'c', 'c', 'b', 'a', 'c', 'a', 'a', 'b', 'c', 'b', 'a']\n",
    "```\n",
    "Создать словарь, в котором ключи – это содержимое списка В, а значения для ключей словаря – это сумма всех элементов списка А в соответствии с буквой, содержащийся на той же позиции в списке В. Пример результата программы: {'a' : 10, 'b' : 15, 'c' : 6}."
   ]
  },
  {
   "cell_type": "code",
   "execution_count": 14,
   "id": "25a6218c",
   "metadata": {},
   "outputs": [
    {
     "name": "stdout",
     "output_type": "stream",
     "text": [
      "{'a': 17, 'b': 11, 'c': 17}\n"
     ]
    }
   ],
   "source": [
    "A = [1, 2, 3, 4, 2, 1, 3, 4, 5, 6, 5, 4, 3, 2]\n",
    "B = ['a', 'b', 'c', 'c', 'c', 'b', 'a', 'c', 'a', 'a', 'b', 'c', 'b', 'a']\n",
    "\n",
    "res = {'a': 0, 'b': 0, 'c': 0}\n",
    "for i in range(len(A)):\n",
    "    res[B[i]] += A[i]\n",
    "print(res)"
   ]
  },
  {
   "cell_type": "markdown",
   "id": "aa553db1",
   "metadata": {},
   "source": [
    "### Задание 7\n",
    "Скачать и загрузить данные о стоимости домов в калифорнии, используя библиотеку `sklearn`."
   ]
  },
  {
   "cell_type": "code",
   "execution_count": 15,
   "id": "b9eba78a",
   "metadata": {},
   "outputs": [],
   "source": [
    "import numpy as np\n",
    "import pandas as pd\n",
    "\n",
    "from sklearn.datasets import fetch_california_housing\n",
    "data = fetch_california_housing(as_frame=True)\n",
    "df = data['frame']"
   ]
  },
  {
   "cell_type": "markdown",
   "id": "f7d23276",
   "metadata": {},
   "source": [
    "### Задание 8\n",
    "Использовать метод `info()`."
   ]
  },
  {
   "cell_type": "code",
   "execution_count": 16,
   "id": "a577a2cd",
   "metadata": {},
   "outputs": [
    {
     "name": "stdout",
     "output_type": "stream",
     "text": [
      "<class 'pandas.core.frame.DataFrame'>\n",
      "RangeIndex: 20640 entries, 0 to 20639\n",
      "Data columns (total 9 columns):\n",
      " #   Column       Non-Null Count  Dtype  \n",
      "---  ------       --------------  -----  \n",
      " 0   MedInc       20640 non-null  float64\n",
      " 1   HouseAge     20640 non-null  float64\n",
      " 2   AveRooms     20640 non-null  float64\n",
      " 3   AveBedrms    20640 non-null  float64\n",
      " 4   Population   20640 non-null  float64\n",
      " 5   AveOccup     20640 non-null  float64\n",
      " 6   Latitude     20640 non-null  float64\n",
      " 7   Longitude    20640 non-null  float64\n",
      " 8   MedHouseVal  20640 non-null  float64\n",
      "dtypes: float64(9)\n",
      "memory usage: 1.4 MB\n"
     ]
    }
   ],
   "source": [
    "df.info()"
   ]
  },
  {
   "cell_type": "markdown",
   "id": "ed2fbd01",
   "metadata": {},
   "source": [
    "### Задание 9\n",
    "Узнать, есть ли пропущенные значения, используя `isna().sum()`."
   ]
  },
  {
   "cell_type": "code",
   "execution_count": 17,
   "id": "eed301c9",
   "metadata": {},
   "outputs": [
    {
     "data": {
      "text/plain": [
       "MedInc         0\n",
       "HouseAge       0\n",
       "AveRooms       0\n",
       "AveBedrms      0\n",
       "Population     0\n",
       "AveOccup       0\n",
       "Latitude       0\n",
       "Longitude      0\n",
       "MedHouseVal    0\n",
       "dtype: int64"
      ]
     },
     "execution_count": 17,
     "metadata": {},
     "output_type": "execute_result"
    }
   ],
   "source": [
    "df.isna().sum()"
   ]
  },
  {
   "cell_type": "markdown",
   "id": "d533022e",
   "metadata": {},
   "source": [
    "### Задание 10\n",
    "Вывести записи, где средний возраст домов в районе более 50 лет и население более 2500 человек, используя метод `loc()`."
   ]
  },
  {
   "cell_type": "code",
   "execution_count": 18,
   "metadata": {},
   "outputs": [
    {
     "data": {
      "text/html": [
       "<div>\n",
       "<style scoped>\n",
       "    .dataframe tbody tr th:only-of-type {\n",
       "        vertical-align: middle;\n",
       "    }\n",
       "\n",
       "    .dataframe tbody tr th {\n",
       "        vertical-align: top;\n",
       "    }\n",
       "\n",
       "    .dataframe thead th {\n",
       "        text-align: right;\n",
       "    }\n",
       "</style>\n",
       "<table border=\"1\" class=\"dataframe\">\n",
       "  <thead>\n",
       "    <tr style=\"text-align: right;\">\n",
       "      <th></th>\n",
       "      <th>MedInc</th>\n",
       "      <th>HouseAge</th>\n",
       "      <th>AveRooms</th>\n",
       "      <th>AveBedrms</th>\n",
       "      <th>Population</th>\n",
       "      <th>AveOccup</th>\n",
       "      <th>Latitude</th>\n",
       "      <th>Longitude</th>\n",
       "      <th>MedHouseVal</th>\n",
       "    </tr>\n",
       "  </thead>\n",
       "  <tbody>\n",
       "    <tr>\n",
       "      <th>460</th>\n",
       "      <td>1.4012</td>\n",
       "      <td>52.0</td>\n",
       "      <td>3.105714</td>\n",
       "      <td>1.060000</td>\n",
       "      <td>3337.0</td>\n",
       "      <td>9.534286</td>\n",
       "      <td>37.87</td>\n",
       "      <td>-122.26</td>\n",
       "      <td>1.75000</td>\n",
       "    </tr>\n",
       "    <tr>\n",
       "      <th>4131</th>\n",
       "      <td>3.5349</td>\n",
       "      <td>52.0</td>\n",
       "      <td>4.646119</td>\n",
       "      <td>1.047945</td>\n",
       "      <td>2589.0</td>\n",
       "      <td>5.910959</td>\n",
       "      <td>34.13</td>\n",
       "      <td>-118.20</td>\n",
       "      <td>1.93600</td>\n",
       "    </tr>\n",
       "    <tr>\n",
       "      <th>4440</th>\n",
       "      <td>2.6806</td>\n",
       "      <td>52.0</td>\n",
       "      <td>4.806283</td>\n",
       "      <td>1.057592</td>\n",
       "      <td>3062.0</td>\n",
       "      <td>4.007853</td>\n",
       "      <td>34.08</td>\n",
       "      <td>-118.21</td>\n",
       "      <td>1.53000</td>\n",
       "    </tr>\n",
       "    <tr>\n",
       "      <th>4968</th>\n",
       "      <td>1.8656</td>\n",
       "      <td>50.0</td>\n",
       "      <td>3.377922</td>\n",
       "      <td>1.031169</td>\n",
       "      <td>3080.0</td>\n",
       "      <td>4.000000</td>\n",
       "      <td>34.01</td>\n",
       "      <td>-118.28</td>\n",
       "      <td>1.22900</td>\n",
       "    </tr>\n",
       "    <tr>\n",
       "      <th>5986</th>\n",
       "      <td>1.8750</td>\n",
       "      <td>52.0</td>\n",
       "      <td>4.500000</td>\n",
       "      <td>1.206349</td>\n",
       "      <td>2688.0</td>\n",
       "      <td>21.333333</td>\n",
       "      <td>34.10</td>\n",
       "      <td>-117.71</td>\n",
       "      <td>2.12500</td>\n",
       "    </tr>\n",
       "    <tr>\n",
       "      <th>7369</th>\n",
       "      <td>3.1901</td>\n",
       "      <td>52.0</td>\n",
       "      <td>4.730942</td>\n",
       "      <td>1.017937</td>\n",
       "      <td>3731.0</td>\n",
       "      <td>4.182735</td>\n",
       "      <td>33.97</td>\n",
       "      <td>-118.21</td>\n",
       "      <td>1.67600</td>\n",
       "    </tr>\n",
       "    <tr>\n",
       "      <th>8227</th>\n",
       "      <td>2.3305</td>\n",
       "      <td>52.0</td>\n",
       "      <td>3.488860</td>\n",
       "      <td>1.170380</td>\n",
       "      <td>3018.0</td>\n",
       "      <td>3.955439</td>\n",
       "      <td>33.78</td>\n",
       "      <td>-118.20</td>\n",
       "      <td>1.62500</td>\n",
       "    </tr>\n",
       "    <tr>\n",
       "      <th>13034</th>\n",
       "      <td>6.1359</td>\n",
       "      <td>52.0</td>\n",
       "      <td>8.275862</td>\n",
       "      <td>1.517241</td>\n",
       "      <td>6675.0</td>\n",
       "      <td>230.172414</td>\n",
       "      <td>38.69</td>\n",
       "      <td>-121.15</td>\n",
       "      <td>2.25000</td>\n",
       "    </tr>\n",
       "    <tr>\n",
       "      <th>15634</th>\n",
       "      <td>1.8295</td>\n",
       "      <td>52.0</td>\n",
       "      <td>2.628169</td>\n",
       "      <td>1.053521</td>\n",
       "      <td>2957.0</td>\n",
       "      <td>4.164789</td>\n",
       "      <td>37.80</td>\n",
       "      <td>-122.41</td>\n",
       "      <td>2.43800</td>\n",
       "    </tr>\n",
       "    <tr>\n",
       "      <th>15652</th>\n",
       "      <td>0.9000</td>\n",
       "      <td>52.0</td>\n",
       "      <td>2.237474</td>\n",
       "      <td>1.053535</td>\n",
       "      <td>3260.0</td>\n",
       "      <td>2.237474</td>\n",
       "      <td>37.80</td>\n",
       "      <td>-122.41</td>\n",
       "      <td>5.00001</td>\n",
       "    </tr>\n",
       "    <tr>\n",
       "      <th>15657</th>\n",
       "      <td>2.5166</td>\n",
       "      <td>52.0</td>\n",
       "      <td>2.839075</td>\n",
       "      <td>1.184049</td>\n",
       "      <td>3436.0</td>\n",
       "      <td>1.621520</td>\n",
       "      <td>37.79</td>\n",
       "      <td>-122.41</td>\n",
       "      <td>2.75000</td>\n",
       "    </tr>\n",
       "    <tr>\n",
       "      <th>15659</th>\n",
       "      <td>1.7240</td>\n",
       "      <td>52.0</td>\n",
       "      <td>2.278566</td>\n",
       "      <td>1.082348</td>\n",
       "      <td>4518.0</td>\n",
       "      <td>1.780142</td>\n",
       "      <td>37.79</td>\n",
       "      <td>-122.41</td>\n",
       "      <td>2.25000</td>\n",
       "    </tr>\n",
       "    <tr>\n",
       "      <th>15795</th>\n",
       "      <td>2.5755</td>\n",
       "      <td>52.0</td>\n",
       "      <td>3.402576</td>\n",
       "      <td>1.058776</td>\n",
       "      <td>2619.0</td>\n",
       "      <td>2.108696</td>\n",
       "      <td>37.77</td>\n",
       "      <td>-122.42</td>\n",
       "      <td>3.25000</td>\n",
       "    </tr>\n",
       "    <tr>\n",
       "      <th>15868</th>\n",
       "      <td>2.8135</td>\n",
       "      <td>52.0</td>\n",
       "      <td>4.584329</td>\n",
       "      <td>1.041169</td>\n",
       "      <td>2987.0</td>\n",
       "      <td>3.966799</td>\n",
       "      <td>37.76</td>\n",
       "      <td>-122.41</td>\n",
       "      <td>2.60300</td>\n",
       "    </tr>\n",
       "    <tr>\n",
       "      <th>20225</th>\n",
       "      <td>2.3669</td>\n",
       "      <td>50.0</td>\n",
       "      <td>3.994891</td>\n",
       "      <td>1.053640</td>\n",
       "      <td>2535.0</td>\n",
       "      <td>3.237548</td>\n",
       "      <td>34.29</td>\n",
       "      <td>-119.30</td>\n",
       "      <td>1.65300</td>\n",
       "    </tr>\n",
       "  </tbody>\n",
       "</table>\n",
       "</div>"
      ],
      "text/plain": [
       "       MedInc  HouseAge  AveRooms  AveBedrms  Population    AveOccup  \\\n",
       "460    1.4012      52.0  3.105714   1.060000      3337.0    9.534286   \n",
       "4131   3.5349      52.0  4.646119   1.047945      2589.0    5.910959   \n",
       "4440   2.6806      52.0  4.806283   1.057592      3062.0    4.007853   \n",
       "4968   1.8656      50.0  3.377922   1.031169      3080.0    4.000000   \n",
       "5986   1.8750      52.0  4.500000   1.206349      2688.0   21.333333   \n",
       "7369   3.1901      52.0  4.730942   1.017937      3731.0    4.182735   \n",
       "8227   2.3305      52.0  3.488860   1.170380      3018.0    3.955439   \n",
       "13034  6.1359      52.0  8.275862   1.517241      6675.0  230.172414   \n",
       "15634  1.8295      52.0  2.628169   1.053521      2957.0    4.164789   \n",
       "15652  0.9000      52.0  2.237474   1.053535      3260.0    2.237474   \n",
       "15657  2.5166      52.0  2.839075   1.184049      3436.0    1.621520   \n",
       "15659  1.7240      52.0  2.278566   1.082348      4518.0    1.780142   \n",
       "15795  2.5755      52.0  3.402576   1.058776      2619.0    2.108696   \n",
       "15868  2.8135      52.0  4.584329   1.041169      2987.0    3.966799   \n",
       "20225  2.3669      50.0  3.994891   1.053640      2535.0    3.237548   \n",
       "\n",
       "       Latitude  Longitude  MedHouseVal  \n",
       "460       37.87    -122.26      1.75000  \n",
       "4131      34.13    -118.20      1.93600  \n",
       "4440      34.08    -118.21      1.53000  \n",
       "4968      34.01    -118.28      1.22900  \n",
       "5986      34.10    -117.71      2.12500  \n",
       "7369      33.97    -118.21      1.67600  \n",
       "8227      33.78    -118.20      1.62500  \n",
       "13034     38.69    -121.15      2.25000  \n",
       "15634     37.80    -122.41      2.43800  \n",
       "15652     37.80    -122.41      5.00001  \n",
       "15657     37.79    -122.41      2.75000  \n",
       "15659     37.79    -122.41      2.25000  \n",
       "15795     37.77    -122.42      3.25000  \n",
       "15868     37.76    -122.41      2.60300  \n",
       "20225     34.29    -119.30      1.65300  "
      ]
     },
     "execution_count": 18,
     "metadata": {},
     "output_type": "execute_result"
    }
   ],
   "source": [
    "df.loc[(df['HouseAge'] >= 50) & (df['Population'] >= 2500)]"
   ]
  },
  {
   "cell_type": "markdown",
   "id": "cd64bc2e",
   "metadata": {},
   "source": [
    "### Задание 11\n",
    "Узнать максимальное и минимальное значения медианной стоимости дома."
   ]
  },
  {
   "cell_type": "code",
   "execution_count": 19,
   "id": "77c7b6ad",
   "metadata": {},
   "outputs": [
    {
     "name": "stdout",
     "output_type": "stream",
     "text": [
      "5.00001 0.14999\n"
     ]
    }
   ],
   "source": [
    "print(df.MedHouseVal.max(), df.MedHouseVal.min())"
   ]
  },
  {
   "cell_type": "markdown",
   "id": "e2845b70",
   "metadata": {},
   "source": [
    "### Задание 12\n",
    "Используя метод apply(), вывести на экран название признака и его среднее значение."
   ]
  },
  {
   "cell_type": "code",
   "execution_count": 20,
   "id": "2c2a5cd3",
   "metadata": {},
   "outputs": [
    {
     "data": {
      "text/plain": [
       "MedInc            3.870671\n",
       "HouseAge         28.639486\n",
       "AveRooms          5.429000\n",
       "AveBedrms         1.096675\n",
       "Population     1425.476744\n",
       "AveOccup          3.070655\n",
       "Latitude         35.631861\n",
       "Longitude      -119.569704\n",
       "MedHouseVal       2.068558\n",
       "dtype: float64"
      ]
     },
     "execution_count": 20,
     "metadata": {},
     "output_type": "execute_result"
    }
   ],
   "source": [
    "df.apply(np.mean)"
   ]
  },
  {
   "cell_type": "markdown",
   "id": "574afbb2",
   "metadata": {},
   "source": [
    "### Доп. задание 1*\n",
    "Дан текст на английском языке. Необходимо закодировать его с помощью азбуки Морзе, где каждой букве соответствует последовательность точек и тире."
   ]
  },
  {
   "cell_type": "code",
   "execution_count": 21,
   "id": "41253e47",
   "metadata": {},
   "outputs": [],
   "source": [
    "MORSE_CODE_DICT = {\n",
    "    'A':'.-', 'B':'-...', 'C':'-.-.', 'D':'-..', 'E':'.',\n",
    "    'F':'..-.', 'G':'--.', 'H':'....', 'I':'..', 'J':'.---',\n",
    "    'K':'-.-', 'L':'.-..', 'M':'--', 'N':'-.', 'O':'---',\n",
    "    'P':'.--.', 'Q':'--.-', 'R':'.-.', 'S':'...', 'T':'-',\n",
    "    'U':'..-', 'V':'...-', 'W':'.--',\n",
    "    'X':'-..-', 'Y':'-.--', 'Z':'--..',\n",
    "    '1':'.----', '2':'..---', '3':'...--', '4':'....-', '5':'.....',\n",
    "    '6':'-....', '7':'--...', '8':'---..', '9':'----.', '0':'-----',\n",
    "    ', ':'--..--', '.':'.-.-.-', '?':'..--..',\n",
    "    '/':'-..-.', '-':'-....-', '(':'-.--.', ')':'-.--.-'\n",
    "}\n",
    "\n",
    "def morse(text):\n",
    "    res = list()\n",
    "    word = list()\n",
    "    for letter in text.upper():\n",
    "        if letter != ' ':\n",
    "            word.append(MORSE_CODE_DICT[letter])\n",
    "        else:\n",
    "            res.append(' '.join(word))\n",
    "            word = list()\n",
    "    if len(word) > 0:\n",
    "        res.append(' '.join(word))\n",
    "    return '\\n'.join(res)"
   ]
  },
  {
   "cell_type": "code",
   "execution_count": 22,
   "id": "e4c82f92",
   "metadata": {},
   "outputs": [
    {
     "name": "stdout",
     "output_type": "stream",
     "text": [
      "... .- -- .--. .-.. .\n",
      "- . -..- -\n"
     ]
    }
   ],
   "source": [
    "print(morse('Sample text'))"
   ]
  },
  {
   "cell_type": "code",
   "execution_count": 23,
   "id": "70c8d951",
   "metadata": {},
   "outputs": [
    {
     "name": "stdout",
     "output_type": "stream",
     "text": [
      "... . .\n",
      "- .... . --\n",
      "- .-. -.--\n",
      "- ---\n",
      "-... .-. .. -. --.\n",
      "- .... .\n",
      ".... .- -- -- . .-.\n",
      "-.. --- .-- -.\n"
     ]
    }
   ],
   "source": [
    "print(morse('See them try to bring the hammer down'))"
   ]
  },
  {
   "cell_type": "markdown",
   "id": "7d79ad75",
   "metadata": {},
   "source": [
    "### Доп. задание 2*\n",
    "\n",
    "Если новый пользователь хочет зарегистрироваться на сайте, то он должен послать системе запрос `name` со своим именем. Система должна определить, существует ли уже такое имя в базе данных. Если такого имени не существует, то оно заносится в базу данных системы и пользователю возвращается ответ `\"ОК\"`, подтверждающий успешную регистрацию. А если пользователь с таким именем уже существует, то система должна сформировать новое имя и выдать его пользователю в качестве подсказки, при этом сама подсказка также добавляется в базу данных. Новое имя формируется следующим образом: к name последовательно приписываются числа, начиная с 1 (name1, name2 и так далее), и среди них находят такое наименьшее i, что namei еще не содержится в системе."
   ]
  },
  {
   "cell_type": "code",
   "execution_count": 24,
   "id": "2544fa9c",
   "metadata": {},
   "outputs": [],
   "source": [
    "def register(input: list):\n",
    "    names = dict()\n",
    "\n",
    "    for name in input:\n",
    "        if name not in names.keys():\n",
    "            names[name] = 0\n",
    "            print('OK')\n",
    "        else:\n",
    "            names[name] += 1\n",
    "            print(f'{name}{names[name]}')"
   ]
  },
  {
   "cell_type": "code",
   "execution_count": 25,
   "id": "782dbdd5",
   "metadata": {},
   "outputs": [
    {
     "name": "stdout",
     "output_type": "stream",
     "text": [
      "OK\n",
      "qwerty1\n",
      "qwerty2\n",
      "OK\n",
      "sampletext1\n",
      "sampletext2\n",
      "sampletext3\n",
      "qwerty3\n",
      "qwerty4\n"
     ]
    }
   ],
   "source": [
    "register(['qwerty'] * 3 + ['sampletext'] * 4 + ['qwerty'] * 2)"
   ]
  },
  {
   "cell_type": "markdown",
   "id": "a20552ee",
   "metadata": {},
   "source": [
    "### Доп. задание 3*\n",
    "\n",
    "Необходимо создать программу обработки запросов пользователей к файловой системе компьютера. Над каждым файлом можно производить следующие действия: запись – w (\"write\"), чтение – r (\"read\"), запуск – x (\"execute\").\n",
    "\n",
    "Для каждого допустимого запроса программа должна возвращать `\"OK\"`, для недопустимого – `\"Access denied\"`."
   ]
  },
  {
   "cell_type": "code",
   "execution_count": 26,
   "id": "684fc42f",
   "metadata": {},
   "outputs": [],
   "source": [
    "def filequery(p: list, ops: list):\n",
    "    files = dict()\n",
    "\n",
    "    for file, *perms in p:\n",
    "        files[file] = perms\n",
    "\n",
    "    for op, file in ops:\n",
    "        op = {'read': 'r', 'write': 'w', 'execute': 'x'}[op]\n",
    "        print(f\"{'OK' if op in files[file] else 'Access denied'}\")"
   ]
  },
  {
   "cell_type": "code",
   "execution_count": 27,
   "id": "17dd49b4",
   "metadata": {},
   "outputs": [
    {
     "name": "stdout",
     "output_type": "stream",
     "text": [
      "Access denied\n",
      "OK\n",
      "OK\n",
      "OK\n",
      "OK\n"
     ]
    }
   ],
   "source": [
    "filequery(\n",
    "    [['python.exe', 'x'],\n",
    "     ['book.txt', 'r', 'w'],\n",
    "     ['notebook.exe', 'r', 'w', 'x']],\n",
    "    [['read', 'python.exe'],\n",
    "     ['read', 'book.txt'],\n",
    "     ['write', 'notebook.exe'],\n",
    "     ['execute', 'notebook.exe'],\n",
    "     ['write', 'book.txt']]\n",
    ")"
   ]
  },
  {
   "cell_type": "code",
   "execution_count": 28,
   "id": "7ceb7067",
   "metadata": {},
   "outputs": [
    {
     "name": "stdout",
     "output_type": "stream",
     "text": [
      "OK\n",
      "Access denied\n",
      "OK\n",
      "Access denied\n"
     ]
    }
   ],
   "source": [
    "filequery(\n",
    "    [['root.html', 'r', 'w', 'x'],\n",
    "     ['main.py', 'x'],\n",
    "     ['login.txt', 'w', 'r']],\n",
    "    [['read', 'root.html'],\n",
    "     ['write', 'main.py'],\n",
    "     ['execute', 'main.py'],\n",
    "     ['execute', 'login.txt']]\n",
    ")"
   ]
  }
 ],
 "metadata": {
  "kernelspec": {
   "display_name": "Python 3 (ipykernel)",
   "language": "python",
   "name": "python3"
  },
  "language_info": {
   "codemirror_mode": {
    "name": "ipython",
    "version": 3
   },
   "file_extension": ".py",
   "mimetype": "text/x-python",
   "name": "python",
   "nbconvert_exporter": "python",
   "pygments_lexer": "ipython3",
   "version": "3.11.3"
  }
 },
 "nbformat": 4,
 "nbformat_minor": 5
}
